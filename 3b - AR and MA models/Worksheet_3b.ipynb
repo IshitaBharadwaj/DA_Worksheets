{
 "cells": [
  {
   "cell_type": "markdown",
   "metadata": {},
   "source": [
    "# PES University, Bangalore\n",
    "## Established under Karnataka Act No. 16 of 2013\n",
    "### UE20CS312 - Data Analytics - Worksheet 3b - AR and MA models\n",
    "### Designed by Vishruth Veerendranath, Dept. of CSE - vishruth@pesu.pes.edu"
   ]
  },
  {
   "cell_type": "markdown",
   "metadata": {},
   "source": [
    "### AR and MA models\n",
    "Auto Regressive and Moving Average are some of the most powerful, yet simple models for time-series forecasting. They can be used individually or together as ARMA. There are many other variations as well. We will use these models to forecast time-series in this worksheet"
   ]
  },
  {
   "cell_type": "markdown",
   "metadata": {},
   "source": [
    "### Task\n",
    "Cryptocurrency is all the rage now and it uses the very exciting technology behind blockchain. People even claim it to be revolutionary. But if you have invested in cryptocurrencies, you know how volatile these cryptocurrencies really are! People have become billionaires by investing in crypto, and others have lost all their money on crypto. The most recent instance of this volatility was seen during the Terra Luna crash. Find more info about that [here](https://www.forbes.com/sites/lawrencewintermeyer/2022/05/25/from-hero-to-zero-how-terra-was-toppled-in-cryptos-darkest-hour/?sh=5a7e83bf389e) and [here](https://c.ndtvimg.com/2021-02/4lo9ita_elon-musk-dogecoin-meme_625x300_04_February_21.jpg) if you are interested.\n",
    "\n",
    "Your task is to effectively forecast the prices of **DogeCoin**, a crypto that started as a meme but now is a crypto that people actually invest in. DogeCoin prices however, are affected even by a single tweet by Elon Musk. The image below tweeted by Elon Musk shot up the prices of DogeCoin by 200%!\n",
    "\n",
    "<!-- ![image](https://c.ndtvimg.com/2021-02/4lo9ita_elon-musk-dogecoin-meme_625x300_04_February_21.jpg =100x100) -->\n",
    "<img src=\"https://c.ndtvimg.com/2021-02/4lo9ita_elon-musk-dogecoin-meme_625x300_04_February_21.jpg\" width=\"300\" height=\"200\" />\n",
    "\n",
    "You have been provided with the daily prices of DogeCoin from `15-08-2021` to `15-08-2022` a period of 1 year (365 days) in the file `doge.csv`\n",
    "\n",
    "Please download the data from this [Github repo](https://github.com/Data-Analytics-UE20CS312/Unit-3-Worksheets/blob/master/3b%20-%20AR%20and%20MA%20models/doge.csv)\n"
   ]
  },
  {
   "cell_type": "markdown",
   "metadata": {},
   "source": [
    "### Data Dictionary\n",
    "\n",
    "Date - Date on which price was recorded     \n",
    "Price - Price of DogeCoin on a particular day"
   ]
  },
  {
   "cell_type": "markdown",
   "metadata": {},
   "source": [
    "### Data Ingestion and Preprocessing\n",
    "- Read the file into a `Pandas` DataFrame object"
   ]
  },
  {
   "cell_type": "code",
   "execution_count": 4,
   "metadata": {},
   "outputs": [
    {
     "data": {
      "text/html": [
       "<div>\n",
       "<style scoped>\n",
       "    .dataframe tbody tr th:only-of-type {\n",
       "        vertical-align: middle;\n",
       "    }\n",
       "\n",
       "    .dataframe tbody tr th {\n",
       "        vertical-align: top;\n",
       "    }\n",
       "\n",
       "    .dataframe thead th {\n",
       "        text-align: right;\n",
       "    }\n",
       "</style>\n",
       "<table border=\"1\" class=\"dataframe\">\n",
       "  <thead>\n",
       "    <tr style=\"text-align: right;\">\n",
       "      <th></th>\n",
       "      <th>Date</th>\n",
       "      <th>Price</th>\n",
       "    </tr>\n",
       "  </thead>\n",
       "  <tbody>\n",
       "    <tr>\n",
       "      <th>0</th>\n",
       "      <td>2021-08-15</td>\n",
       "      <td>0.348722</td>\n",
       "    </tr>\n",
       "    <tr>\n",
       "      <th>1</th>\n",
       "      <td>2021-08-16</td>\n",
       "      <td>0.349838</td>\n",
       "    </tr>\n",
       "    <tr>\n",
       "      <th>2</th>\n",
       "      <td>2021-08-17</td>\n",
       "      <td>0.345208</td>\n",
       "    </tr>\n",
       "    <tr>\n",
       "      <th>3</th>\n",
       "      <td>2021-08-18</td>\n",
       "      <td>0.331845</td>\n",
       "    </tr>\n",
       "    <tr>\n",
       "      <th>4</th>\n",
       "      <td>2021-08-19</td>\n",
       "      <td>0.321622</td>\n",
       "    </tr>\n",
       "  </tbody>\n",
       "</table>\n",
       "</div>"
      ],
      "text/plain": [
       "         Date     Price\n",
       "0  2021-08-15  0.348722\n",
       "1  2021-08-16  0.349838\n",
       "2  2021-08-17  0.345208\n",
       "3  2021-08-18  0.331845\n",
       "4  2021-08-19  0.321622"
      ]
     },
     "execution_count": 4,
     "metadata": {},
     "output_type": "execute_result"
    }
   ],
   "source": [
    "import pandas as pd\n",
    "df = pd.read_csv('doge.csv')\n",
    "\n",
    "df.head()"
   ]
  },
  {
   "cell_type": "markdown",
   "metadata": {},
   "source": [
    "## Prerequisites\n",
    "\n",
    "- Set up a new conda env or use an existing one that has `jupyter-notebook` and `ipykernel` installed (Conda envs come with these by default) [Reference](https://conda.io/projects/conda/en/latest/user-guide/getting-started.html)\n",
    "- Instead, you can also use a python venv and install `ipykernel` manually (We instead suggest using conda instead for easy setup) [Reference](https://docs.python.org/3/tutorial/venv.html)\n",
    "- Install the `statsmodels` package either in your Conda environment or Python venv. Refer to [the installation guide](https://www.statsmodels.org/dev/install.html)"
   ]
  },
  {
   "cell_type": "markdown",
   "metadata": {},
   "source": [
    "### Points\n",
    "\n",
    "The problems in this worksheet are for a total of 10 points with each problem having a different weightage. \n",
    "- Problem 0: 0.5 points\n",
    "- Problem 1: 1.5 point\n",
    "- Problem 2: 2 points\n",
    "- Problem 3: 1 points\n",
    "- Problem 4: 2 point\n",
    "- Problem 5: 1 point\n",
    "- Problem 6: 1 points\n"
   ]
  },
  {
   "cell_type": "markdown",
   "metadata": {},
   "source": [
    "**HINTS FOR ALL PROBLEMS**: \n",
    "- Consider using `inplace=True` or assign it to new DataFrame, when using pandas transformations. If none of these are done, the DataFrame will remain the same\n",
    "- Search for functions in the `statsmodels` [documentation](https://www.statsmodels.org/dev/index.html)"
   ]
  },
  {
   "cell_type": "markdown",
   "metadata": {},
   "source": [
    "### Problem 0 (0.5 point)\n",
    "- Set the index of DataFrame to the `Date` column to make it a time series"
   ]
  },
  {
   "cell_type": "markdown",
   "metadata": {},
   "source": [
    "### Problem 1 (1.5 point)\n",
    "- Plot the time-series. Analyze the stationarity from the time-series. Provide reasoning for stationarity/non-stationarity based on visual inspection of time-series plot (0.5 point)"
   ]
  },
  {
   "cell_type": "markdown",
   "metadata": {},
   "source": [
    "- Plot the ACF plot of the Time series (upto 50 lags). Analyze the stationarity from ACF plot and provide reasoning (Hint: look at functions in `statsmodels` package) (1 Point)"
   ]
  },
  {
   "cell_type": "markdown",
   "metadata": {},
   "source": [
    "### Problem 2 (2 point)\n",
    "\n",
    "- Run Augmented Dickey Fuller Test. Analyze whether the time-series is stationary, based on ADF results (1 point)     \n",
    "    \n",
    "Hint: Use the `print_adf_results` function below to print the results of the ADF function cleanly after obtaining results from the library function. Pass the results from library function to `print_adf_results` function"
   ]
  },
  {
   "cell_type": "code",
   "execution_count": 5,
   "metadata": {},
   "outputs": [],
   "source": [
    "def print_adf_results(adf_result):\n",
    "    print('ADF Statistic: %f' % adf_result[0])\n",
    "    print('p-value: %f' % adf_result[1])\n",
    "    print('Critical Values:')\n",
    "    for key, value in adf_result[4].items():\n",
    "        print('\\t%s: %.3f' % (key, value))"
   ]
  },
  {
   "cell_type": "markdown",
   "metadata": {},
   "source": [
    "- If not stationary, apply appropriate transformations. Run the ADF test again to show stationarity after transformation (1 Point)\n",
    "      \n",
    "Hint: `diff` and `dropna`. Assign the DataFrame after transformation to a new DataFrame with name `transformed_df`"
   ]
  },
  {
   "cell_type": "markdown",
   "metadata": {},
   "source": [
    "### Problem 3 (1 point)\n",
    "\n",
    "- Plot both ACF and PACF plot. From these select optimal parameters for the ARIMA(p,q) model     \n",
    "\n",
    "Hint: Negative values that are significantly outside the Confidence interval are considered significant too.        \n",
    "Hint: `p+q = 3`"
   ]
  },
  {
   "cell_type": "markdown",
   "metadata": {},
   "source": [
    "### Problem 4 (2 point)\n",
    "- Write a function to forecast values using only AR(p) model (2 Points)     \n",
    "Only use `pandas` functions and Linear Regression from `sklearn`. [LR documentation](https://scikit-learn.org/stable/modules/generated/sklearn.linear_model.LinearRegression.html)      \n",
    "\n",
    "Hint: Create p new columns in a new DataFrame that is a copy of `transformed_df`       \n",
    "Each new column has lagged value of Price. `Price_t-i` (From `Price_t-1` upto `Price_t-p`)      \n",
    "Look at the `shift` function in pandas to create these new columns [Link](https://pandas.pydata.org/docs/reference/api/pandas.DataFrame.shift.html)"
   ]
  },
  {
   "cell_type": "code",
   "execution_count": 181,
   "metadata": {},
   "outputs": [],
   "source": [
    "### Adding columns for lagged values\n",
    "arima_df = transformed_df.copy()\n",
    "\n",
    "## AR terms \n",
    "p = None # TODO: Initialise p to the value inferred from the ACF and PACF plot\n",
    "\n",
    "# Creating p new columns, for p lagged values\n",
    "for i in range(1,p+1): \n",
    "    arima_df[f'Price_t-{i}'] = None #TODO: Replace None with the p lagged value (Use shift function)\n",
    "\n",
    "arima_df.dropna(inplace=True)"
   ]
  },
  {
   "cell_type": "markdown",
   "metadata": {},
   "source": [
    "Hint:\n",
    "- **Seperate into `X_train` and `y_train` for linear regression**  \n",
    "- We know that AR(p) is linear regression with p lagged values, and we have created p new columns with the p lagged values        \n",
    "- `X_train` is training input that consists of the columns `Price_t-1` upto `Price_t-p` (p columns in total) \n",
    "- `y_train` is the training output (truth values) of the Price, i.e the `Price` column (Only 1 column)"
   ]
  },
  {
   "cell_type": "code",
   "execution_count": null,
   "metadata": {},
   "outputs": [],
   "source": [
    "X_train = arima_df[['TODO: REPLACE THIS LIST WITH LIST OF P COLUMN NAMES']].values\n",
    "y_train = arima_df['Price'].values"
   ]
  },
  {
   "cell_type": "markdown",
   "metadata": {},
   "source": [
    "- Set up the Linear Regression between `X_train` and `y_train` [LR documentation](https://scikit-learn.org/stable/modules/generated/sklearn.linear_model.LinearRegression.html)      \n",
    "\n",
    "Name the `LinearRegression()` object `lr`"
   ]
  },
  {
   "cell_type": "code",
   "execution_count": 184,
   "metadata": {},
   "outputs": [
    {
     "data": {
      "text/plain": [
       "LinearRegression()"
      ]
     },
     "execution_count": 184,
     "metadata": {},
     "output_type": "execute_result"
    }
   ],
   "source": [
    "# TODO: Perform Linear Regression"
   ]
  },
  {
   "cell_type": "code",
   "execution_count": null,
   "metadata": {},
   "outputs": [],
   "source": [
    "lr.coef_"
   ]
  },
  {
   "cell_type": "code",
   "execution_count": 186,
   "metadata": {},
   "outputs": [],
   "source": [
    "# Adding new column with predictions using the LR coefficients. The LR Coefficients are Alpha values or AR coefficients\n",
    "arima_df['AR_Prediction'] = X_train.dot(lr.coef_.T) + lr.intercept_"
   ]
  },
  {
   "cell_type": "code",
   "execution_count": null,
   "metadata": {},
   "outputs": [],
   "source": [
    "arima_df.plot(y=['AR_Prediction', 'Price'])"
   ]
  },
  {
   "cell_type": "markdown",
   "metadata": {},
   "source": [
    "Once you get predicitons like this using AR you would have to, undifference the predictions (which are differenced), but we will not deal with that here. \n",
    "For some hints on how to undifference the data to get actual predictions look [here](https://stackoverflow.com/questions/49903037/pandas-reverse-of-diff)"
   ]
  },
  {
   "cell_type": "markdown",
   "metadata": {},
   "source": [
    "### Problem 5 (1 Point)\n",
    "\n",
    "Phew! Just handling AR(2) manually required us to difference, apply regression, undifference. \n",
    "Let's make all of this much easier with a simple library function\n",
    "\n",
    "- **Use the ARIMA function using parameters picked to forecast values (1 point)**       \n",
    "\n",
    "Hint: Look at ARIMA function the `statstmodels`. Pass the `p,d,q` inferred from the previous tasks          \n",
    "We **DO NOT** need to pass the `transformed_df` to the ARIMA function.          \n",
    "Pass the orirginal `df` as input to ARIMA function, with the `d` value inferred when Transforming the df to make it stationary      \n",
    "The ARIMA function automatically performs the differencing based on the `d` value passed        \n",
    "Store the `.fit()` results in an object named `res`"
   ]
  },
  {
   "cell_type": "code",
   "execution_count": null,
   "metadata": {},
   "outputs": [],
   "source": [
    "## TODO: Use ARIMA function"
   ]
  },
  {
   "cell_type": "code",
   "execution_count": 209,
   "metadata": {},
   "outputs": [],
   "source": [
    "# Making predictions and plotting\n",
    "df['Predictions'] = res.predict(0, len(df)-1)\n",
    "df.plot()"
   ]
  },
  {
   "cell_type": "code",
   "execution_count": null,
   "metadata": {},
   "outputs": [],
   "source": [
    "# Forecast for 20 future dates after training data ends\n",
    "res.forecast(20).plot()"
   ]
  },
  {
   "cell_type": "markdown",
   "metadata": {},
   "source": [
    "### Problem 6 (1 point)"
   ]
  },
  {
   "cell_type": "markdown",
   "metadata": {},
   "source": [
    "- Evaluate the ARIMA model using Ljung Box test. Based on p-value infer if the Model shows lack of fit\n",
    "\n",
    "Hint: Pass the `res.resid` (Residuals of the ARIMA model) as input the Ljung-Box Text.      \n",
    "Pass `lags=[10]`. Set `return_df=True`\n",
    "For inference, refer back to the Null and Alternate Hypotheses of Ljung-Box test. (If p value high, Null Hypothesis is significant)"
   ]
  }
 ],
 "metadata": {
  "kernelspec": {
   "display_name": "Python 3",
   "language": "python",
   "name": "python3"
  },
  "language_info": {
   "codemirror_mode": {
    "name": "ipython",
    "version": 3
   },
   "file_extension": ".py",
   "mimetype": "text/x-python",
   "name": "python",
   "nbconvert_exporter": "python",
   "pygments_lexer": "ipython3",
   "version": "3.8.3"
  },
  "vscode": {
   "interpreter": {
    "hash": "b7b35159d5f3714c312bd281d072de1b51cb405758b497569d7b0919f3fae85c"
   }
  }
 },
 "nbformat": 4,
 "nbformat_minor": 2
}
