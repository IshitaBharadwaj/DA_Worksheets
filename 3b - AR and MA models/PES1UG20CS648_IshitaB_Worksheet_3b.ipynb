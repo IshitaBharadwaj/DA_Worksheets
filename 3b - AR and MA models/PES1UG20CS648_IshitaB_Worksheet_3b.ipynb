{
  "cells": [
    {
      "cell_type": "markdown",
      "metadata": {
        "id": "JgWVjOTYxiz1"
      },
      "source": [
        "# PES University, Bangalore\n",
        "## Established under Karnataka Act No. 16 of 2013\n",
        "### UE20CS312 - Data Analytics - Worksheet 3b - AR and MA models\n",
        "### Ishita Bharadwaj - PES1UG20CS648\n",
        "##### Collaborated with Hita Juneja - PES1UG20CS645"
      ]
    },
    {
      "cell_type": "markdown",
      "metadata": {
        "id": "l5EM1LXZxiz4"
      },
      "source": [
        "### AR and MA models\n",
        "Auto Regressive and Moving Average are some of the most powerful, yet simple models for time-series forecasting. They can be used individually or together as ARMA. There are many other variations as well. We will use these models to forecast time-series in this worksheet"
      ]
    },
    {
      "cell_type": "markdown",
      "metadata": {
        "id": "xHfI5En9xiz5"
      },
      "source": [
        "### Task\n",
        "Cryptocurrency is all the rage now and it uses the very exciting technology behind blockchain. People even claim it to be revolutionary. But if you have invested in cryptocurrencies, you know how volatile these cryptocurrencies really are! People have become billionaires by investing in crypto, and others have lost all their money on crypto. The most recent instance of this volatility was seen during the Terra Luna crash. Find more info about that [here](https://www.forbes.com/sites/lawrencewintermeyer/2022/05/25/from-hero-to-zero-how-terra-was-toppled-in-cryptos-darkest-hour/?sh=5a7e83bf389e) and [here](https://c.ndtvimg.com/2021-02/4lo9ita_elon-musk-dogecoin-meme_625x300_04_February_21.jpg) if you are interested.\n",
        "\n",
        "Your task is to effectively forecast the prices of **DogeCoin**, a crypto that started as a meme but now is a crypto that people actually invest in. DogeCoin prices however, are affected even by a single tweet by Elon Musk. The image below tweeted by Elon Musk shot up the prices of DogeCoin by 200%!\n",
        "\n",
        "<!-- ![image](https://c.ndtvimg.com/2021-02/4lo9ita_elon-musk-dogecoin-meme_625x300_04_February_21.jpg =100x100) -->\n",
        "<img src=\"https://c.ndtvimg.com/2021-02/4lo9ita_elon-musk-dogecoin-meme_625x300_04_February_21.jpg\" width=\"300\" height=\"200\" />\n",
        "\n",
        "You have been provided with the daily prices of DogeCoin from `15-08-2021` to `15-08-2022` a period of 1 year (365 days) in the file `doge.csv`\n",
        "\n",
        "Please download the data from this [Github repo](https://github.com/Data-Analytics-UE20CS312/Unit-3-Worksheets/blob/master/3b%20-%20AR%20and%20MA%20models/doge.csv)\n"
      ]
    },
    {
      "cell_type": "markdown",
      "metadata": {
        "id": "xxbST5Ymxiz6"
      },
      "source": [
        "### Data Dictionary\n",
        "\n",
        "Date - Date on which price was recorded     \n",
        "Price - Price of DogeCoin on a particular day"
      ]
    },
    {
      "cell_type": "markdown",
      "metadata": {
        "id": "Nv2_hPPpxiz6"
      },
      "source": [
        "### Data Ingestion and Preprocessing\n",
        "- Read the file into a `Pandas` DataFrame object"
      ]
    },
    {
      "cell_type": "code",
      "execution_count": 59,
      "metadata": {
        "id": "yNK5LXjlxiz6",
        "outputId": "888ca1c1-8322-4ba6-b712-eab31873fa20",
        "colab": {
          "base_uri": "https://localhost:8080/",
          "height": 206
        }
      },
      "outputs": [
        {
          "output_type": "execute_result",
          "data": {
            "text/plain": [
              "         Date     Price\n",
              "0  2021-08-15  0.348722\n",
              "1  2021-08-16  0.349838\n",
              "2  2021-08-17  0.345208\n",
              "3  2021-08-18  0.331844\n",
              "4  2021-08-19  0.321622"
            ],
            "text/html": [
              "\n",
              "  <div id=\"df-05f074e1-bdcd-4c0c-96cd-91ab3eb712af\">\n",
              "    <div class=\"colab-df-container\">\n",
              "      <div>\n",
              "<style scoped>\n",
              "    .dataframe tbody tr th:only-of-type {\n",
              "        vertical-align: middle;\n",
              "    }\n",
              "\n",
              "    .dataframe tbody tr th {\n",
              "        vertical-align: top;\n",
              "    }\n",
              "\n",
              "    .dataframe thead th {\n",
              "        text-align: right;\n",
              "    }\n",
              "</style>\n",
              "<table border=\"1\" class=\"dataframe\">\n",
              "  <thead>\n",
              "    <tr style=\"text-align: right;\">\n",
              "      <th></th>\n",
              "      <th>Date</th>\n",
              "      <th>Price</th>\n",
              "    </tr>\n",
              "  </thead>\n",
              "  <tbody>\n",
              "    <tr>\n",
              "      <th>0</th>\n",
              "      <td>2021-08-15</td>\n",
              "      <td>0.348722</td>\n",
              "    </tr>\n",
              "    <tr>\n",
              "      <th>1</th>\n",
              "      <td>2021-08-16</td>\n",
              "      <td>0.349838</td>\n",
              "    </tr>\n",
              "    <tr>\n",
              "      <th>2</th>\n",
              "      <td>2021-08-17</td>\n",
              "      <td>0.345208</td>\n",
              "    </tr>\n",
              "    <tr>\n",
              "      <th>3</th>\n",
              "      <td>2021-08-18</td>\n",
              "      <td>0.331844</td>\n",
              "    </tr>\n",
              "    <tr>\n",
              "      <th>4</th>\n",
              "      <td>2021-08-19</td>\n",
              "      <td>0.321622</td>\n",
              "    </tr>\n",
              "  </tbody>\n",
              "</table>\n",
              "</div>\n",
              "      <button class=\"colab-df-convert\" onclick=\"convertToInteractive('df-05f074e1-bdcd-4c0c-96cd-91ab3eb712af')\"\n",
              "              title=\"Convert this dataframe to an interactive table.\"\n",
              "              style=\"display:none;\">\n",
              "        \n",
              "  <svg xmlns=\"http://www.w3.org/2000/svg\" height=\"24px\"viewBox=\"0 0 24 24\"\n",
              "       width=\"24px\">\n",
              "    <path d=\"M0 0h24v24H0V0z\" fill=\"none\"/>\n",
              "    <path d=\"M18.56 5.44l.94 2.06.94-2.06 2.06-.94-2.06-.94-.94-2.06-.94 2.06-2.06.94zm-11 1L8.5 8.5l.94-2.06 2.06-.94-2.06-.94L8.5 2.5l-.94 2.06-2.06.94zm10 10l.94 2.06.94-2.06 2.06-.94-2.06-.94-.94-2.06-.94 2.06-2.06.94z\"/><path d=\"M17.41 7.96l-1.37-1.37c-.4-.4-.92-.59-1.43-.59-.52 0-1.04.2-1.43.59L10.3 9.45l-7.72 7.72c-.78.78-.78 2.05 0 2.83L4 21.41c.39.39.9.59 1.41.59.51 0 1.02-.2 1.41-.59l7.78-7.78 2.81-2.81c.8-.78.8-2.07 0-2.86zM5.41 20L4 18.59l7.72-7.72 1.47 1.35L5.41 20z\"/>\n",
              "  </svg>\n",
              "      </button>\n",
              "      \n",
              "  <style>\n",
              "    .colab-df-container {\n",
              "      display:flex;\n",
              "      flex-wrap:wrap;\n",
              "      gap: 12px;\n",
              "    }\n",
              "\n",
              "    .colab-df-convert {\n",
              "      background-color: #E8F0FE;\n",
              "      border: none;\n",
              "      border-radius: 50%;\n",
              "      cursor: pointer;\n",
              "      display: none;\n",
              "      fill: #1967D2;\n",
              "      height: 32px;\n",
              "      padding: 0 0 0 0;\n",
              "      width: 32px;\n",
              "    }\n",
              "\n",
              "    .colab-df-convert:hover {\n",
              "      background-color: #E2EBFA;\n",
              "      box-shadow: 0px 1px 2px rgba(60, 64, 67, 0.3), 0px 1px 3px 1px rgba(60, 64, 67, 0.15);\n",
              "      fill: #174EA6;\n",
              "    }\n",
              "\n",
              "    [theme=dark] .colab-df-convert {\n",
              "      background-color: #3B4455;\n",
              "      fill: #D2E3FC;\n",
              "    }\n",
              "\n",
              "    [theme=dark] .colab-df-convert:hover {\n",
              "      background-color: #434B5C;\n",
              "      box-shadow: 0px 1px 3px 1px rgba(0, 0, 0, 0.15);\n",
              "      filter: drop-shadow(0px 1px 2px rgba(0, 0, 0, 0.3));\n",
              "      fill: #FFFFFF;\n",
              "    }\n",
              "  </style>\n",
              "\n",
              "      <script>\n",
              "        const buttonEl =\n",
              "          document.querySelector('#df-05f074e1-bdcd-4c0c-96cd-91ab3eb712af button.colab-df-convert');\n",
              "        buttonEl.style.display =\n",
              "          google.colab.kernel.accessAllowed ? 'block' : 'none';\n",
              "\n",
              "        async function convertToInteractive(key) {\n",
              "          const element = document.querySelector('#df-05f074e1-bdcd-4c0c-96cd-91ab3eb712af');\n",
              "          const dataTable =\n",
              "            await google.colab.kernel.invokeFunction('convertToInteractive',\n",
              "                                                     [key], {});\n",
              "          if (!dataTable) return;\n",
              "\n",
              "          const docLinkHtml = 'Like what you see? Visit the ' +\n",
              "            '<a target=\"_blank\" href=https://colab.research.google.com/notebooks/data_table.ipynb>data table notebook</a>'\n",
              "            + ' to learn more about interactive tables.';\n",
              "          element.innerHTML = '';\n",
              "          dataTable['output_type'] = 'display_data';\n",
              "          await google.colab.output.renderOutput(dataTable, element);\n",
              "          const docLink = document.createElement('div');\n",
              "          docLink.innerHTML = docLinkHtml;\n",
              "          element.appendChild(docLink);\n",
              "        }\n",
              "      </script>\n",
              "    </div>\n",
              "  </div>\n",
              "  "
            ]
          },
          "metadata": {},
          "execution_count": 59
        }
      ],
      "source": [
        "import pandas as pd\n",
        "df = pd.read_csv('doge.csv')\n",
        "\n",
        "df.head()"
      ]
    },
    {
      "cell_type": "markdown",
      "metadata": {
        "id": "K6ows5JKxiz8"
      },
      "source": [
        "## Prerequisites\n",
        "\n",
        "- Set up a new conda env or use an existing one that has `jupyter-notebook` and `ipykernel` installed (Conda envs come with these by default) [Reference](https://conda.io/projects/conda/en/latest/user-guide/getting-started.html)\n",
        "- Instead, you can also use a python venv and install `ipykernel` manually (We instead suggest using conda instead for easy setup) [Reference](https://docs.python.org/3/tutorial/venv.html)\n",
        "- Install the `statsmodels` package either in your Conda environment or Python venv. Refer to [the installation guide](https://www.statsmodels.org/dev/install.html)"
      ]
    },
    {
      "cell_type": "code",
      "source": [
        "!pip install ipykernel"
      ],
      "metadata": {
        "id": "eFvyAbcCzTzs"
      },
      "execution_count": 60,
      "outputs": []
    },
    {
      "cell_type": "code",
      "source": [
        "!pip install statsmodels"
      ],
      "metadata": {
        "id": "rwBu6cyrzaEg"
      },
      "execution_count": 61,
      "outputs": []
    },
    {
      "cell_type": "markdown",
      "metadata": {
        "id": "KwC3v0Xwxiz9"
      },
      "source": [
        "### Points\n",
        "\n",
        "The problems in this worksheet are for a total of 10 points with each problem having a different weightage. \n",
        "- Problem 0: 0.5 points\n",
        "- Problem 1: 1.5 point\n",
        "- Problem 2: 2 points\n",
        "- Problem 3: 1 points\n",
        "- Problem 4: 2 point\n",
        "- Problem 5: 1 point\n",
        "- Problem 6: 1 points\n"
      ]
    },
    {
      "cell_type": "markdown",
      "metadata": {
        "id": "-IpOZ4Ulxiz9"
      },
      "source": [
        "**HINTS FOR ALL PROBLEMS**: \n",
        "- Consider using `inplace=True` or assign it to new DataFrame, when using pandas transformations. If none of these are done, the DataFrame will remain the same\n",
        "- Search for functions in the `statsmodels` [documentation](https://www.statsmodels.org/dev/index.html)"
      ]
    },
    {
      "cell_type": "markdown",
      "metadata": {
        "id": "3XmJKmp_xiz-"
      },
      "source": [
        "### Problem 0 (0.5 point)\n",
        "- Set the index of DataFrame to the `Date` column to make it a time series"
      ]
    },
    {
      "cell_type": "code",
      "source": [
        "df.set_index('Date', inplace=True)\n",
        "df"
      ],
      "metadata": {
        "colab": {
          "base_uri": "https://localhost:8080/",
          "height": 455
        },
        "id": "weKQOU9tz80l",
        "outputId": "8c3d305f-c641-4e39-cddb-14e4752ddf9f"
      },
      "execution_count": 62,
      "outputs": [
        {
          "output_type": "execute_result",
          "data": {
            "text/plain": [
              "               Price\n",
              "Date                \n",
              "2021-08-15  0.348722\n",
              "2021-08-16  0.349838\n",
              "2021-08-17  0.345208\n",
              "2021-08-18  0.331844\n",
              "2021-08-19  0.321622\n",
              "...              ...\n",
              "2022-08-11  0.072978\n",
              "2022-08-12  0.073563\n",
              "2022-08-13  0.073670\n",
              "2022-08-14  0.079436\n",
              "2022-08-15  0.082882\n",
              "\n",
              "[366 rows x 1 columns]"
            ],
            "text/html": [
              "\n",
              "  <div id=\"df-ae1e5566-77e1-4aec-a711-5a8b7b531f7c\">\n",
              "    <div class=\"colab-df-container\">\n",
              "      <div>\n",
              "<style scoped>\n",
              "    .dataframe tbody tr th:only-of-type {\n",
              "        vertical-align: middle;\n",
              "    }\n",
              "\n",
              "    .dataframe tbody tr th {\n",
              "        vertical-align: top;\n",
              "    }\n",
              "\n",
              "    .dataframe thead th {\n",
              "        text-align: right;\n",
              "    }\n",
              "</style>\n",
              "<table border=\"1\" class=\"dataframe\">\n",
              "  <thead>\n",
              "    <tr style=\"text-align: right;\">\n",
              "      <th></th>\n",
              "      <th>Price</th>\n",
              "    </tr>\n",
              "    <tr>\n",
              "      <th>Date</th>\n",
              "      <th></th>\n",
              "    </tr>\n",
              "  </thead>\n",
              "  <tbody>\n",
              "    <tr>\n",
              "      <th>2021-08-15</th>\n",
              "      <td>0.348722</td>\n",
              "    </tr>\n",
              "    <tr>\n",
              "      <th>2021-08-16</th>\n",
              "      <td>0.349838</td>\n",
              "    </tr>\n",
              "    <tr>\n",
              "      <th>2021-08-17</th>\n",
              "      <td>0.345208</td>\n",
              "    </tr>\n",
              "    <tr>\n",
              "      <th>2021-08-18</th>\n",
              "      <td>0.331844</td>\n",
              "    </tr>\n",
              "    <tr>\n",
              "      <th>2021-08-19</th>\n",
              "      <td>0.321622</td>\n",
              "    </tr>\n",
              "    <tr>\n",
              "      <th>...</th>\n",
              "      <td>...</td>\n",
              "    </tr>\n",
              "    <tr>\n",
              "      <th>2022-08-11</th>\n",
              "      <td>0.072978</td>\n",
              "    </tr>\n",
              "    <tr>\n",
              "      <th>2022-08-12</th>\n",
              "      <td>0.073563</td>\n",
              "    </tr>\n",
              "    <tr>\n",
              "      <th>2022-08-13</th>\n",
              "      <td>0.073670</td>\n",
              "    </tr>\n",
              "    <tr>\n",
              "      <th>2022-08-14</th>\n",
              "      <td>0.079436</td>\n",
              "    </tr>\n",
              "    <tr>\n",
              "      <th>2022-08-15</th>\n",
              "      <td>0.082882</td>\n",
              "    </tr>\n",
              "  </tbody>\n",
              "</table>\n",
              "<p>366 rows × 1 columns</p>\n",
              "</div>\n",
              "      <button class=\"colab-df-convert\" onclick=\"convertToInteractive('df-ae1e5566-77e1-4aec-a711-5a8b7b531f7c')\"\n",
              "              title=\"Convert this dataframe to an interactive table.\"\n",
              "              style=\"display:none;\">\n",
              "        \n",
              "  <svg xmlns=\"http://www.w3.org/2000/svg\" height=\"24px\"viewBox=\"0 0 24 24\"\n",
              "       width=\"24px\">\n",
              "    <path d=\"M0 0h24v24H0V0z\" fill=\"none\"/>\n",
              "    <path d=\"M18.56 5.44l.94 2.06.94-2.06 2.06-.94-2.06-.94-.94-2.06-.94 2.06-2.06.94zm-11 1L8.5 8.5l.94-2.06 2.06-.94-2.06-.94L8.5 2.5l-.94 2.06-2.06.94zm10 10l.94 2.06.94-2.06 2.06-.94-2.06-.94-.94-2.06-.94 2.06-2.06.94z\"/><path d=\"M17.41 7.96l-1.37-1.37c-.4-.4-.92-.59-1.43-.59-.52 0-1.04.2-1.43.59L10.3 9.45l-7.72 7.72c-.78.78-.78 2.05 0 2.83L4 21.41c.39.39.9.59 1.41.59.51 0 1.02-.2 1.41-.59l7.78-7.78 2.81-2.81c.8-.78.8-2.07 0-2.86zM5.41 20L4 18.59l7.72-7.72 1.47 1.35L5.41 20z\"/>\n",
              "  </svg>\n",
              "      </button>\n",
              "      \n",
              "  <style>\n",
              "    .colab-df-container {\n",
              "      display:flex;\n",
              "      flex-wrap:wrap;\n",
              "      gap: 12px;\n",
              "    }\n",
              "\n",
              "    .colab-df-convert {\n",
              "      background-color: #E8F0FE;\n",
              "      border: none;\n",
              "      border-radius: 50%;\n",
              "      cursor: pointer;\n",
              "      display: none;\n",
              "      fill: #1967D2;\n",
              "      height: 32px;\n",
              "      padding: 0 0 0 0;\n",
              "      width: 32px;\n",
              "    }\n",
              "\n",
              "    .colab-df-convert:hover {\n",
              "      background-color: #E2EBFA;\n",
              "      box-shadow: 0px 1px 2px rgba(60, 64, 67, 0.3), 0px 1px 3px 1px rgba(60, 64, 67, 0.15);\n",
              "      fill: #174EA6;\n",
              "    }\n",
              "\n",
              "    [theme=dark] .colab-df-convert {\n",
              "      background-color: #3B4455;\n",
              "      fill: #D2E3FC;\n",
              "    }\n",
              "\n",
              "    [theme=dark] .colab-df-convert:hover {\n",
              "      background-color: #434B5C;\n",
              "      box-shadow: 0px 1px 3px 1px rgba(0, 0, 0, 0.15);\n",
              "      filter: drop-shadow(0px 1px 2px rgba(0, 0, 0, 0.3));\n",
              "      fill: #FFFFFF;\n",
              "    }\n",
              "  </style>\n",
              "\n",
              "      <script>\n",
              "        const buttonEl =\n",
              "          document.querySelector('#df-ae1e5566-77e1-4aec-a711-5a8b7b531f7c button.colab-df-convert');\n",
              "        buttonEl.style.display =\n",
              "          google.colab.kernel.accessAllowed ? 'block' : 'none';\n",
              "\n",
              "        async function convertToInteractive(key) {\n",
              "          const element = document.querySelector('#df-ae1e5566-77e1-4aec-a711-5a8b7b531f7c');\n",
              "          const dataTable =\n",
              "            await google.colab.kernel.invokeFunction('convertToInteractive',\n",
              "                                                     [key], {});\n",
              "          if (!dataTable) return;\n",
              "\n",
              "          const docLinkHtml = 'Like what you see? Visit the ' +\n",
              "            '<a target=\"_blank\" href=https://colab.research.google.com/notebooks/data_table.ipynb>data table notebook</a>'\n",
              "            + ' to learn more about interactive tables.';\n",
              "          element.innerHTML = '';\n",
              "          dataTable['output_type'] = 'display_data';\n",
              "          await google.colab.output.renderOutput(dataTable, element);\n",
              "          const docLink = document.createElement('div');\n",
              "          docLink.innerHTML = docLinkHtml;\n",
              "          element.appendChild(docLink);\n",
              "        }\n",
              "      </script>\n",
              "    </div>\n",
              "  </div>\n",
              "  "
            ]
          },
          "metadata": {},
          "execution_count": 62
        }
      ]
    },
    {
      "cell_type": "markdown",
      "metadata": {
        "id": "IOWqtAFJxiz-"
      },
      "source": [
        "### Problem 1 (1.5 point)\n",
        "- Plot the time-series. Analyze the stationarity from the time-series. Provide reasoning for stationarity/non-stationarity based on visual inspection of time-series plot (0.5 point)"
      ]
    },
    {
      "cell_type": "markdown",
      "metadata": {
        "id": "Fu58GTJAxiz-"
      },
      "source": [
        "- Plot the ACF plot of the Time series (upto 50 lags). Analyze the stationarity from ACF plot and provide reasoning (Hint: look at functions in `statsmodels` package) (1 Point)"
      ]
    },
    {
      "cell_type": "code",
      "source": [
        "df['Price'].plot() "
      ],
      "metadata": {
        "colab": {
          "base_uri": "https://localhost:8080/",
          "height": 297
        },
        "id": "fJ7H78zv0KXb",
        "outputId": "ea8f9116-4291-489d-8eea-31885962519e"
      },
      "execution_count": 63,
      "outputs": [
        {
          "output_type": "execute_result",
          "data": {
            "text/plain": [
              "<matplotlib.axes._subplots.AxesSubplot at 0x7f28fa353650>"
            ]
          },
          "metadata": {},
          "execution_count": 63
        },
        {
          "output_type": "display_data",
          "data": {
            "text/plain": [
              "<Figure size 432x288 with 1 Axes>"
            ],
            "image/png": "[encoded data removed]"
          },
          "metadata": {
            "needs_background": "light"
          }
        }
      ]
    },
    {
      "cell_type": "code",
      "source": [
        "#Plotting the ACF \n",
        "import statsmodels.api as sm\n",
        "import matplotlib.pyplot as plt\n",
        "sm.graphics.tsa.plot_acf(df.values.squeeze(), lags=50)\n",
        "plt.show()"
      ],
      "metadata": {
        "colab": {
          "base_uri": "https://localhost:8080/",
          "height": 281
        },
        "id": "7QrH3HdF1ekG",
        "outputId": "f2f16a0f-59ea-498e-a1b5-5fc10e41b1ad"
      },
      "execution_count": 64,
      "outputs": [
        {
          "output_type": "display_data",
          "data": {
            "text/plain": [
              "<Figure size 432x288 with 1 Axes>"
            ],
            "image/png": "[encoded data removed]"
          },
          "metadata": {
            "needs_background": "light"
          }
        }
      ]
    },
    {
      "cell_type": "markdown",
      "source": [
        "The time series plot for the given dataset doesn't follow the rules of stationarity. That is <br/>\n",
        "1) The means values of Price is at different values of time (date) are not constant. <br/>\n",
        "2) The variances of Price on different time periods(dates) are not constant.<br/>\n",
        "3) The covariances in prices at time t and t-k depends on both t and k.<br/>\n",
        "Also, a gradual decrease in ACF, rather than a sharp decrease/ cut off to 0 is another sign of nonstationarity. <br/>\n",
        "Hence, the given time series is non-stationary."
      ],
      "metadata": {
        "id": "El9in36s2JqH"
      }
    },
    {
      "cell_type": "markdown",
      "metadata": {
        "id": "u4z6oiUVxiz_"
      },
      "source": [
        "### Problem 2 (2 point)\n",
        "\n",
        "- Run Augmented Dickey Fuller Test. Analyze whether the time-series is stationary, based on ADF results (1 point)     \n",
        "    \n",
        "Hint: Use the `print_adf_results` function below to print the results of the ADF function cleanly after obtaining results from the library function. Pass the results from library function to `print_adf_results` function"
      ]
    },
    {
      "cell_type": "code",
      "execution_count": 65,
      "metadata": {
        "id": "QIR_rBOzxiz_"
      },
      "outputs": [],
      "source": [
        "def print_adf_results(adf_result):\n",
        "    print('ADF Statistic: %f' % adf_result[0])\n",
        "    print('p-value: %f' % adf_result[1])\n",
        "    print('Critical Values:')\n",
        "    for key, value in adf_result[4].items():\n",
        "        print('\\t%s: %.3f' % (key, value))"
      ]
    },
    {
      "cell_type": "markdown",
      "metadata": {
        "id": "l4Rml3Kcxiz_"
      },
      "source": [
        "- If not stationary, apply appropriate transformations. Run the ADF test again to show stationarity after transformation (1 Point)\n",
        "      \n",
        "Hint: `diff` and `dropna`. Assign the DataFrame after transformation to a new DataFrame with name `transformed_df`"
      ]
    },
    {
      "cell_type": "markdown",
      "source": [
        "Here the null and alternate hypothesis are as follows:<br/>\n",
        "H0 = Time series is non-stationary.<br/>\n",
        "Ha = Time series is stationary."
      ],
      "metadata": {
        "id": "JfUsldO7HwTn"
      }
    },
    {
      "cell_type": "code",
      "source": [
        "from statsmodels.tsa.stattools import adfuller\n",
        "adf_result = adfuller(df)\n",
        "print('ADF Statistic: %f' % adf_result[0])\n",
        "print('p-value: %f' % adf_result[1])\n",
        "print('Critical Values:')\n",
        "for key, value in adf_result[4].items():\n",
        "  print('\\t%s: %.3f' % (key, value))\n"
      ],
      "metadata": {
        "colab": {
          "base_uri": "https://localhost:8080/"
        },
        "id": "1De7e5_iGVdI",
        "outputId": "0185a9db-38a0-47dd-9e0b-07bb300d220f"
      },
      "execution_count": 66,
      "outputs": [
        {
          "output_type": "stream",
          "name": "stdout",
          "text": [
            "ADF Statistic: -1.558935\n",
            "p-value: 0.504182\n",
            "Critical Values:\n",
            "\t1%: -3.449\n",
            "\t5%: -2.870\n",
            "\t10%: -2.571\n"
          ]
        }
      ]
    },
    {
      "cell_type": "code",
      "source": [
        "df.plot()"
      ],
      "metadata": {
        "colab": {
          "base_uri": "https://localhost:8080/",
          "height": 297
        },
        "id": "7ylz8gvqI3h_",
        "outputId": "2aa8ca67-e67d-4ec5-8c97-cc6ef719a208"
      },
      "execution_count": 67,
      "outputs": [
        {
          "output_type": "execute_result",
          "data": {
            "text/plain": [
              "<matplotlib.axes._subplots.AxesSubplot at 0x7f28fa2aecd0>"
            ]
          },
          "metadata": {},
          "execution_count": 67
        },
        {
          "output_type": "display_data",
          "data": {
            "text/plain": [
              "<Figure size 432x288 with 1 Axes>"
            ],
            "image/png": "[encoded data removed]"
          },
          "metadata": {
            "needs_background": "light"
          }
        }
      ]
    },
    {
      "cell_type": "markdown",
      "source": [
        "The ADF statistics for the original dataframe are as give above. A p-value = 0.5 is obtained which signifies fail to reject H0. Even the plot shows a non-stationary/varying wave. Thus, we can conclude that the time series is non-stationary."
      ],
      "metadata": {
        "id": "AgpU9GBbICb5"
      }
    },
    {
      "cell_type": "code",
      "source": [
        "transformed_df = df.diff().dropna()\n",
        "trans_adf = adfuller(transformed_df)\n",
        "print_adf_results(trans_adf)"
      ],
      "metadata": {
        "colab": {
          "base_uri": "https://localhost:8080/"
        },
        "id": "2IbAWHx5Gy1E",
        "outputId": "eda14e40-4964-4424-9144-4da4511967a5"
      },
      "execution_count": 68,
      "outputs": [
        {
          "output_type": "stream",
          "name": "stdout",
          "text": [
            "ADF Statistic: -5.593446\n",
            "p-value: 0.000001\n",
            "Critical Values:\n",
            "\t1%: -3.449\n",
            "\t5%: -2.870\n",
            "\t10%: -2.571\n"
          ]
        }
      ]
    },
    {
      "cell_type": "code",
      "source": [
        "transformed_df.plot()"
      ],
      "metadata": {
        "colab": {
          "base_uri": "https://localhost:8080/",
          "height": 297
        },
        "id": "11pPQwX2GzuV",
        "outputId": "fa12d218-a878-49a3-8bc1-d781ddd80faa"
      },
      "execution_count": 69,
      "outputs": [
        {
          "output_type": "execute_result",
          "data": {
            "text/plain": [
              "<matplotlib.axes._subplots.AxesSubplot at 0x7f28fa238410>"
            ]
          },
          "metadata": {},
          "execution_count": 69
        },
        {
          "output_type": "display_data",
          "data": {
            "text/plain": [
              "<Figure size 432x288 with 1 Axes>"
            ],
            "image/png": "[encoded data removed]"
          },
          "metadata": {
            "needs_background": "light"
          }
        }
      ]
    },
    {
      "cell_type": "markdown",
      "source": [
        "After applying the transformation of a single order difference and dropping all NA values, we obtain a new dataframe called transformed_df. The ADF statistics and the p-value(0.000001) indicate rejection of Ho and conclude that the new time series is stationary."
      ],
      "metadata": {
        "id": "I4jgrhBkJZXJ"
      }
    },
    {
      "cell_type": "markdown",
      "metadata": {
        "id": "M5rTxGKhxiz_"
      },
      "source": [
        "### Problem 3 (1 point)\n",
        "\n",
        "- Plot both ACF and PACF plot. From these select optimal parameters for the ARIMA(p,q) model     \n",
        "\n",
        "Hint: Negative values that are significantly outside the Confidence interval are considered significant too.        \n",
        "Hint: `p+q = 3`"
      ]
    },
    {
      "cell_type": "code",
      "source": [
        "import statsmodels.api as sm\n",
        "import matplotlib.pyplot as plt\n",
        "sm.graphics.tsa.plot_acf(transformed_df, lags=50)\n",
        "plt.show()"
      ],
      "metadata": {
        "colab": {
          "base_uri": "https://localhost:8080/",
          "height": 281
        },
        "id": "WDszgVmsJ9g-",
        "outputId": "a5ec7777-84b8-4220-95fb-9522ed54eba6"
      },
      "execution_count": 70,
      "outputs": [
        {
          "output_type": "display_data",
          "data": {
            "text/plain": [
              "<Figure size 432x288 with 1 Axes>"
            ],
            "image/png": "[encoded data removed]"
          },
          "metadata": {
            "needs_background": "light"
          }
        }
      ]
    },
    {
      "cell_type": "markdown",
      "source": [
        "As seen from the ACF plot, there are 2 values that are significantly outside the confidence interval compared to all of the other values.Also the auto-correlation function decreases exponentially after 2 instances. Hence value of p can be chosen to be 2."
      ],
      "metadata": {
        "id": "UezB6pw7LYgV"
      }
    },
    {
      "cell_type": "code",
      "source": [
        "sm.graphics.tsa.plot_pacf(transformed_df, lags=50)\n",
        "plt.show()"
      ],
      "metadata": {
        "colab": {
          "base_uri": "https://localhost:8080/",
          "height": 281
        },
        "id": "v8o_i1-HJ-SS",
        "outputId": "b3402022-3b4c-4bd0-85a1-6fb965120c41"
      },
      "execution_count": 71,
      "outputs": [
        {
          "output_type": "display_data",
          "data": {
            "text/plain": [
              "<Figure size 432x288 with 1 Axes>"
            ],
            "image/png": "[encoded data removed]"
          },
          "metadata": {
            "needs_background": "light"
          }
        }
      ]
    },
    {
      "cell_type": "markdown",
      "source": [
        "As seen from the above PACF plot, the partial auto-correlation is >1.96/sqrt(n) for the order 1. Thus, the value for q shd be 1. "
      ],
      "metadata": {
        "id": "RhXzyc3YMGoy"
      }
    },
    {
      "cell_type": "markdown",
      "metadata": {
        "id": "RP0assejxi0A"
      },
      "source": [
        "### Problem 4 (2 point)\n",
        "- Write a function to forecast values using only AR(p) model (2 Points)     \n",
        "Only use `pandas` functions and Linear Regression from `sklearn`. [LR documentation](https://scikit-learn.org/stable/modules/generated/sklearn.linear_model.LinearRegression.html)      \n",
        "\n",
        "Hint: Create p new columns in a new DataFrame that is a copy of `transformed_df`       \n",
        "Each new column has lagged value of Price. `Price_t-i` (From `Price_t-1` upto `Price_t-p`)      \n",
        "Look at the `shift` function in pandas to create these new columns [Link](https://pandas.pydata.org/docs/reference/api/pandas.DataFrame.shift.html)"
      ]
    },
    {
      "cell_type": "code",
      "execution_count": 72,
      "metadata": {
        "id": "9eknDG2Dxi0A"
      },
      "outputs": [],
      "source": [
        "### Adding columns for lagged values\n",
        "arima_df = transformed_df.copy()\n",
        "\n",
        "## AR terms \n",
        "p = 2\n",
        "# Creating p new columns, for p lagged values\n",
        "for i in range(1,p+1): \n",
        "    arima_df[f'Price_t-{i}'] = arima_df['Price'].shift(i)\n",
        "\n",
        "arima_df.dropna(inplace=True)"
      ]
    },
    {
      "cell_type": "code",
      "source": [
        "arima_df"
      ],
      "metadata": {
        "colab": {
          "base_uri": "https://localhost:8080/",
          "height": 455
        },
        "id": "dXU9CyVIObW7",
        "outputId": "27df8df5-ec36-4051-e7b5-504e0a459fd9"
      },
      "execution_count": 73,
      "outputs": [
        {
          "output_type": "execute_result",
          "data": {
            "text/plain": [
              "               Price  Price_t-1  Price_t-2\n",
              "Date                                      \n",
              "2021-08-18 -0.013363  -0.004630   0.001116\n",
              "2021-08-19 -0.010222  -0.013363  -0.004630\n",
              "2021-08-20  0.004498  -0.010222  -0.013363\n",
              "2021-08-21  0.005169   0.004498  -0.010222\n",
              "2021-08-22 -0.005841   0.005169   0.004498\n",
              "...              ...        ...        ...\n",
              "2022-08-11  0.000380  -0.000374   0.001993\n",
              "2022-08-12  0.000585   0.000380  -0.000374\n",
              "2022-08-13  0.000107   0.000585   0.000380\n",
              "2022-08-14  0.005767   0.000107   0.000585\n",
              "2022-08-15  0.003446   0.005767   0.000107\n",
              "\n",
              "[363 rows x 3 columns]"
            ],
            "text/html": [
              "\n",
              "  <div id=\"df-8e883435-a9b9-4f35-bd98-48d7effb33b0\">\n",
              "    <div class=\"colab-df-container\">\n",
              "      <div>\n",
              "<style scoped>\n",
              "    .dataframe tbody tr th:only-of-type {\n",
              "        vertical-align: middle;\n",
              "    }\n",
              "\n",
              "    .dataframe tbody tr th {\n",
              "        vertical-align: top;\n",
              "    }\n",
              "\n",
              "    .dataframe thead th {\n",
              "        text-align: right;\n",
              "    }\n",
              "</style>\n",
              "<table border=\"1\" class=\"dataframe\">\n",
              "  <thead>\n",
              "    <tr style=\"text-align: right;\">\n",
              "      <th></th>\n",
              "      <th>Price</th>\n",
              "      <th>Price_t-1</th>\n",
              "      <th>Price_t-2</th>\n",
              "    </tr>\n",
              "    <tr>\n",
              "      <th>Date</th>\n",
              "      <th></th>\n",
              "      <th></th>\n",
              "      <th></th>\n",
              "    </tr>\n",
              "  </thead>\n",
              "  <tbody>\n",
              "    <tr>\n",
              "      <th>2021-08-18</th>\n",
              "      <td>-0.013363</td>\n",
              "      <td>-0.004630</td>\n",
              "      <td>0.001116</td>\n",
              "    </tr>\n",
              "    <tr>\n",
              "      <th>2021-08-19</th>\n",
              "      <td>-0.010222</td>\n",
              "      <td>-0.013363</td>\n",
              "      <td>-0.004630</td>\n",
              "    </tr>\n",
              "    <tr>\n",
              "      <th>2021-08-20</th>\n",
              "      <td>0.004498</td>\n",
              "      <td>-0.010222</td>\n",
              "      <td>-0.013363</td>\n",
              "    </tr>\n",
              "    <tr>\n",
              "      <th>2021-08-21</th>\n",
              "      <td>0.005169</td>\n",
              "      <td>0.004498</td>\n",
              "      <td>-0.010222</td>\n",
              "    </tr>\n",
              "    <tr>\n",
              "      <th>2021-08-22</th>\n",
              "      <td>-0.005841</td>\n",
              "      <td>0.005169</td>\n",
              "      <td>0.004498</td>\n",
              "    </tr>\n",
              "    <tr>\n",
              "      <th>...</th>\n",
              "      <td>...</td>\n",
              "      <td>...</td>\n",
              "      <td>...</td>\n",
              "    </tr>\n",
              "    <tr>\n",
              "      <th>2022-08-11</th>\n",
              "      <td>0.000380</td>\n",
              "      <td>-0.000374</td>\n",
              "      <td>0.001993</td>\n",
              "    </tr>\n",
              "    <tr>\n",
              "      <th>2022-08-12</th>\n",
              "      <td>0.000585</td>\n",
              "      <td>0.000380</td>\n",
              "      <td>-0.000374</td>\n",
              "    </tr>\n",
              "    <tr>\n",
              "      <th>2022-08-13</th>\n",
              "      <td>0.000107</td>\n",
              "      <td>0.000585</td>\n",
              "      <td>0.000380</td>\n",
              "    </tr>\n",
              "    <tr>\n",
              "      <th>2022-08-14</th>\n",
              "      <td>0.005767</td>\n",
              "      <td>0.000107</td>\n",
              "      <td>0.000585</td>\n",
              "    </tr>\n",
              "    <tr>\n",
              "      <th>2022-08-15</th>\n",
              "      <td>0.003446</td>\n",
              "      <td>0.005767</td>\n",
              "      <td>0.000107</td>\n",
              "    </tr>\n",
              "  </tbody>\n",
              "</table>\n",
              "<p>363 rows × 3 columns</p>\n",
              "</div>\n",
              "      <button class=\"colab-df-convert\" onclick=\"convertToInteractive('df-8e883435-a9b9-4f35-bd98-48d7effb33b0')\"\n",
              "              title=\"Convert this dataframe to an interactive table.\"\n",
              "              style=\"display:none;\">\n",
              "        \n",
              "  <svg xmlns=\"http://www.w3.org/2000/svg\" height=\"24px\"viewBox=\"0 0 24 24\"\n",
              "       width=\"24px\">\n",
              "    <path d=\"M0 0h24v24H0V0z\" fill=\"none\"/>\n",
              "    <path d=\"M18.56 5.44l.94 2.06.94-2.06 2.06-.94-2.06-.94-.94-2.06-.94 2.06-2.06.94zm-11 1L8.5 8.5l.94-2.06 2.06-.94-2.06-.94L8.5 2.5l-.94 2.06-2.06.94zm10 10l.94 2.06.94-2.06 2.06-.94-2.06-.94-.94-2.06-.94 2.06-2.06.94z\"/><path d=\"M17.41 7.96l-1.37-1.37c-.4-.4-.92-.59-1.43-.59-.52 0-1.04.2-1.43.59L10.3 9.45l-7.72 7.72c-.78.78-.78 2.05 0 2.83L4 21.41c.39.39.9.59 1.41.59.51 0 1.02-.2 1.41-.59l7.78-7.78 2.81-2.81c.8-.78.8-2.07 0-2.86zM5.41 20L4 18.59l7.72-7.72 1.47 1.35L5.41 20z\"/>\n",
              "  </svg>\n",
              "      </button>\n",
              "      \n",
              "  <style>\n",
              "    .colab-df-container {\n",
              "      display:flex;\n",
              "      flex-wrap:wrap;\n",
              "      gap: 12px;\n",
              "    }\n",
              "\n",
              "    .colab-df-convert {\n",
              "      background-color: #E8F0FE;\n",
              "      border: none;\n",
              "      border-radius: 50%;\n",
              "      cursor: pointer;\n",
              "      display: none;\n",
              "      fill: #1967D2;\n",
              "      height: 32px;\n",
              "      padding: 0 0 0 0;\n",
              "      width: 32px;\n",
              "    }\n",
              "\n",
              "    .colab-df-convert:hover {\n",
              "      background-color: #E2EBFA;\n",
              "      box-shadow: 0px 1px 2px rgba(60, 64, 67, 0.3), 0px 1px 3px 1px rgba(60, 64, 67, 0.15);\n",
              "      fill: #174EA6;\n",
              "    }\n",
              "\n",
              "    [theme=dark] .colab-df-convert {\n",
              "      background-color: #3B4455;\n",
              "      fill: #D2E3FC;\n",
              "    }\n",
              "\n",
              "    [theme=dark] .colab-df-convert:hover {\n",
              "      background-color: #434B5C;\n",
              "      box-shadow: 0px 1px 3px 1px rgba(0, 0, 0, 0.15);\n",
              "      filter: drop-shadow(0px 1px 2px rgba(0, 0, 0, 0.3));\n",
              "      fill: #FFFFFF;\n",
              "    }\n",
              "  </style>\n",
              "\n",
              "      <script>\n",
              "        const buttonEl =\n",
              "          document.querySelector('#df-8e883435-a9b9-4f35-bd98-48d7effb33b0 button.colab-df-convert');\n",
              "        buttonEl.style.display =\n",
              "          google.colab.kernel.accessAllowed ? 'block' : 'none';\n",
              "\n",
              "        async function convertToInteractive(key) {\n",
              "          const element = document.querySelector('#df-8e883435-a9b9-4f35-bd98-48d7effb33b0');\n",
              "          const dataTable =\n",
              "            await google.colab.kernel.invokeFunction('convertToInteractive',\n",
              "                                                     [key], {});\n",
              "          if (!dataTable) return;\n",
              "\n",
              "          const docLinkHtml = 'Like what you see? Visit the ' +\n",
              "            '<a target=\"_blank\" href=https://colab.research.google.com/notebooks/data_table.ipynb>data table notebook</a>'\n",
              "            + ' to learn more about interactive tables.';\n",
              "          element.innerHTML = '';\n",
              "          dataTable['output_type'] = 'display_data';\n",
              "          await google.colab.output.renderOutput(dataTable, element);\n",
              "          const docLink = document.createElement('div');\n",
              "          docLink.innerHTML = docLinkHtml;\n",
              "          element.appendChild(docLink);\n",
              "        }\n",
              "      </script>\n",
              "    </div>\n",
              "  </div>\n",
              "  "
            ]
          },
          "metadata": {},
          "execution_count": 73
        }
      ]
    },
    {
      "cell_type": "markdown",
      "metadata": {
        "id": "3eYOopkfxi0A"
      },
      "source": [
        "Hint:\n",
        "- **Seperate into `X_train` and `y_train` for linear regression**  \n",
        "- We know that AR(p) is linear regression with p lagged values, and we have created p new columns with the p lagged values        \n",
        "- `X_train` is training input that consists of the columns `Price_t-1` upto `Price_t-p` (p columns in total) \n",
        "- `y_train` is the training output (truth values) of the Price, i.e the `Price` column (Only 1 column)"
      ]
    },
    {
      "cell_type": "code",
      "execution_count": 74,
      "metadata": {
        "id": "Pc9F6s-Exi0A"
      },
      "outputs": [],
      "source": [
        "X_train = arima_df[['Price_t-1', 'Price_t-2']].values\n",
        "y_train = arima_df['Price'].values"
      ]
    },
    {
      "cell_type": "markdown",
      "metadata": {
        "id": "jmAXhErJxi0A"
      },
      "source": [
        "- Set up the Linear Regression between `X_train` and `y_train` [LR documentation](https://scikit-learn.org/stable/modules/generated/sklearn.linear_model.LinearRegression.html)      \n",
        "\n",
        "Name the `LinearRegression()` object `lr`"
      ]
    },
    {
      "cell_type": "code",
      "execution_count": 75,
      "metadata": {
        "id": "FvCGtfoQxi0B",
        "outputId": "e25c2100-5122-4e22-9046-2ac556031882",
        "colab": {
          "base_uri": "https://localhost:8080/"
        }
      },
      "outputs": [
        {
          "output_type": "execute_result",
          "data": {
            "text/plain": [
              "LinearRegression()"
            ]
          },
          "metadata": {},
          "execution_count": 75
        }
      ],
      "source": [
        "from sklearn.linear_model import LinearRegression\n",
        "lr = LinearRegression()\n",
        "lr.fit(X_train, y_train)"
      ]
    },
    {
      "cell_type": "code",
      "execution_count": 76,
      "metadata": {
        "id": "UHu7l335xi0B",
        "colab": {
          "base_uri": "https://localhost:8080/"
        },
        "outputId": "2d60f1d1-0df7-4447-9054-d12401d5f902"
      },
      "outputs": [
        {
          "output_type": "execute_result",
          "data": {
            "text/plain": [
              "array([ 0.57292128, -0.39148166])"
            ]
          },
          "metadata": {},
          "execution_count": 76
        }
      ],
      "source": [
        "lr.coef_"
      ]
    },
    {
      "cell_type": "code",
      "execution_count": 77,
      "metadata": {
        "id": "B2Y0gl3oxi0B"
      },
      "outputs": [],
      "source": [
        "# Adding new column with predictions using the LR coefficients. The LR Coefficients are Alpha values or AR coefficients\n",
        "arima_df['AR_Prediction'] = X_train.dot(lr.coef_.T) + lr.intercept_"
      ]
    },
    {
      "cell_type": "code",
      "source": [
        "arima_df"
      ],
      "metadata": {
        "colab": {
          "base_uri": "https://localhost:8080/",
          "height": 455
        },
        "id": "Irj9tInvQB_f",
        "outputId": "980c1c0f-f4f1-4a53-f3c4-5a43cda2ec8a"
      },
      "execution_count": 78,
      "outputs": [
        {
          "output_type": "execute_result",
          "data": {
            "text/plain": [
              "               Price  Price_t-1  Price_t-2  AR_Prediction\n",
              "Date                                                     \n",
              "2021-08-18 -0.013363  -0.004630   0.001116      -0.003682\n",
              "2021-08-19 -0.010222  -0.013363  -0.004630      -0.006436\n",
              "2021-08-20  0.004498  -0.010222  -0.013363      -0.001218\n",
              "2021-08-21  0.005169   0.004498  -0.010222       0.005986\n",
              "2021-08-22 -0.005841   0.005169   0.004498       0.000608\n",
              "...              ...        ...        ...            ...\n",
              "2022-08-11  0.000380  -0.000374   0.001993      -0.001587\n",
              "2022-08-12  0.000585   0.000380  -0.000374      -0.000228\n",
              "2022-08-13  0.000107   0.000585   0.000380      -0.000406\n",
              "2022-08-14  0.005767   0.000107   0.000585      -0.000760\n",
              "2022-08-15  0.003446   0.005767   0.000107       0.002669\n",
              "\n",
              "[363 rows x 4 columns]"
            ],
            "text/html": [
              "\n",
              "  <div id=\"df-e6237d0e-2950-4ef0-85a9-51eec8fd8f4e\">\n",
              "    <div class=\"colab-df-container\">\n",
              "      <div>\n",
              "<style scoped>\n",
              "    .dataframe tbody tr th:only-of-type {\n",
              "        vertical-align: middle;\n",
              "    }\n",
              "\n",
              "    .dataframe tbody tr th {\n",
              "        vertical-align: top;\n",
              "    }\n",
              "\n",
              "    .dataframe thead th {\n",
              "        text-align: right;\n",
              "    }\n",
              "</style>\n",
              "<table border=\"1\" class=\"dataframe\">\n",
              "  <thead>\n",
              "    <tr style=\"text-align: right;\">\n",
              "      <th></th>\n",
              "      <th>Price</th>\n",
              "      <th>Price_t-1</th>\n",
              "      <th>Price_t-2</th>\n",
              "      <th>AR_Prediction</th>\n",
              "    </tr>\n",
              "    <tr>\n",
              "      <th>Date</th>\n",
              "      <th></th>\n",
              "      <th></th>\n",
              "      <th></th>\n",
              "      <th></th>\n",
              "    </tr>\n",
              "  </thead>\n",
              "  <tbody>\n",
              "    <tr>\n",
              "      <th>2021-08-18</th>\n",
              "      <td>-0.013363</td>\n",
              "      <td>-0.004630</td>\n",
              "      <td>0.001116</td>\n",
              "      <td>-0.003682</td>\n",
              "    </tr>\n",
              "    <tr>\n",
              "      <th>2021-08-19</th>\n",
              "      <td>-0.010222</td>\n",
              "      <td>-0.013363</td>\n",
              "      <td>-0.004630</td>\n",
              "      <td>-0.006436</td>\n",
              "    </tr>\n",
              "    <tr>\n",
              "      <th>2021-08-20</th>\n",
              "      <td>0.004498</td>\n",
              "      <td>-0.010222</td>\n",
              "      <td>-0.013363</td>\n",
              "      <td>-0.001218</td>\n",
              "    </tr>\n",
              "    <tr>\n",
              "      <th>2021-08-21</th>\n",
              "      <td>0.005169</td>\n",
              "      <td>0.004498</td>\n",
              "      <td>-0.010222</td>\n",
              "      <td>0.005986</td>\n",
              "    </tr>\n",
              "    <tr>\n",
              "      <th>2021-08-22</th>\n",
              "      <td>-0.005841</td>\n",
              "      <td>0.005169</td>\n",
              "      <td>0.004498</td>\n",
              "      <td>0.000608</td>\n",
              "    </tr>\n",
              "    <tr>\n",
              "      <th>...</th>\n",
              "      <td>...</td>\n",
              "      <td>...</td>\n",
              "      <td>...</td>\n",
              "      <td>...</td>\n",
              "    </tr>\n",
              "    <tr>\n",
              "      <th>2022-08-11</th>\n",
              "      <td>0.000380</td>\n",
              "      <td>-0.000374</td>\n",
              "      <td>0.001993</td>\n",
              "      <td>-0.001587</td>\n",
              "    </tr>\n",
              "    <tr>\n",
              "      <th>2022-08-12</th>\n",
              "      <td>0.000585</td>\n",
              "      <td>0.000380</td>\n",
              "      <td>-0.000374</td>\n",
              "      <td>-0.000228</td>\n",
              "    </tr>\n",
              "    <tr>\n",
              "      <th>2022-08-13</th>\n",
              "      <td>0.000107</td>\n",
              "      <td>0.000585</td>\n",
              "      <td>0.000380</td>\n",
              "      <td>-0.000406</td>\n",
              "    </tr>\n",
              "    <tr>\n",
              "      <th>2022-08-14</th>\n",
              "      <td>0.005767</td>\n",
              "      <td>0.000107</td>\n",
              "      <td>0.000585</td>\n",
              "      <td>-0.000760</td>\n",
              "    </tr>\n",
              "    <tr>\n",
              "      <th>2022-08-15</th>\n",
              "      <td>0.003446</td>\n",
              "      <td>0.005767</td>\n",
              "      <td>0.000107</td>\n",
              "      <td>0.002669</td>\n",
              "    </tr>\n",
              "  </tbody>\n",
              "</table>\n",
              "<p>363 rows × 4 columns</p>\n",
              "</div>\n",
              "      <button class=\"colab-df-convert\" onclick=\"convertToInteractive('df-e6237d0e-2950-4ef0-85a9-51eec8fd8f4e')\"\n",
              "              title=\"Convert this dataframe to an interactive table.\"\n",
              "              style=\"display:none;\">\n",
              "        \n",
              "  <svg xmlns=\"http://www.w3.org/2000/svg\" height=\"24px\"viewBox=\"0 0 24 24\"\n",
              "       width=\"24px\">\n",
              "    <path d=\"M0 0h24v24H0V0z\" fill=\"none\"/>\n",
              "    <path d=\"M18.56 5.44l.94 2.06.94-2.06 2.06-.94-2.06-.94-.94-2.06-.94 2.06-2.06.94zm-11 1L8.5 8.5l.94-2.06 2.06-.94-2.06-.94L8.5 2.5l-.94 2.06-2.06.94zm10 10l.94 2.06.94-2.06 2.06-.94-2.06-.94-.94-2.06-.94 2.06-2.06.94z\"/><path d=\"M17.41 7.96l-1.37-1.37c-.4-.4-.92-.59-1.43-.59-.52 0-1.04.2-1.43.59L10.3 9.45l-7.72 7.72c-.78.78-.78 2.05 0 2.83L4 21.41c.39.39.9.59 1.41.59.51 0 1.02-.2 1.41-.59l7.78-7.78 2.81-2.81c.8-.78.8-2.07 0-2.86zM5.41 20L4 18.59l7.72-7.72 1.47 1.35L5.41 20z\"/>\n",
              "  </svg>\n",
              "      </button>\n",
              "      \n",
              "  <style>\n",
              "    .colab-df-container {\n",
              "      display:flex;\n",
              "      flex-wrap:wrap;\n",
              "      gap: 12px;\n",
              "    }\n",
              "\n",
              "    .colab-df-convert {\n",
              "      background-color: #E8F0FE;\n",
              "      border: none;\n",
              "      border-radius: 50%;\n",
              "      cursor: pointer;\n",
              "      display: none;\n",
              "      fill: #1967D2;\n",
              "      height: 32px;\n",
              "      padding: 0 0 0 0;\n",
              "      width: 32px;\n",
              "    }\n",
              "\n",
              "    .colab-df-convert:hover {\n",
              "      background-color: #E2EBFA;\n",
              "      box-shadow: 0px 1px 2px rgba(60, 64, 67, 0.3), 0px 1px 3px 1px rgba(60, 64, 67, 0.15);\n",
              "      fill: #174EA6;\n",
              "    }\n",
              "\n",
              "    [theme=dark] .colab-df-convert {\n",
              "      background-color: #3B4455;\n",
              "      fill: #D2E3FC;\n",
              "    }\n",
              "\n",
              "    [theme=dark] .colab-df-convert:hover {\n",
              "      background-color: #434B5C;\n",
              "      box-shadow: 0px 1px 3px 1px rgba(0, 0, 0, 0.15);\n",
              "      filter: drop-shadow(0px 1px 2px rgba(0, 0, 0, 0.3));\n",
              "      fill: #FFFFFF;\n",
              "    }\n",
              "  </style>\n",
              "\n",
              "      <script>\n",
              "        const buttonEl =\n",
              "          document.querySelector('#df-e6237d0e-2950-4ef0-85a9-51eec8fd8f4e button.colab-df-convert');\n",
              "        buttonEl.style.display =\n",
              "          google.colab.kernel.accessAllowed ? 'block' : 'none';\n",
              "\n",
              "        async function convertToInteractive(key) {\n",
              "          const element = document.querySelector('#df-e6237d0e-2950-4ef0-85a9-51eec8fd8f4e');\n",
              "          const dataTable =\n",
              "            await google.colab.kernel.invokeFunction('convertToInteractive',\n",
              "                                                     [key], {});\n",
              "          if (!dataTable) return;\n",
              "\n",
              "          const docLinkHtml = 'Like what you see? Visit the ' +\n",
              "            '<a target=\"_blank\" href=https://colab.research.google.com/notebooks/data_table.ipynb>data table notebook</a>'\n",
              "            + ' to learn more about interactive tables.';\n",
              "          element.innerHTML = '';\n",
              "          dataTable['output_type'] = 'display_data';\n",
              "          await google.colab.output.renderOutput(dataTable, element);\n",
              "          const docLink = document.createElement('div');\n",
              "          docLink.innerHTML = docLinkHtml;\n",
              "          element.appendChild(docLink);\n",
              "        }\n",
              "      </script>\n",
              "    </div>\n",
              "  </div>\n",
              "  "
            ]
          },
          "metadata": {},
          "execution_count": 78
        }
      ]
    },
    {
      "cell_type": "code",
      "execution_count": 79,
      "metadata": {
        "id": "GL0kpzMAxi0B",
        "colab": {
          "base_uri": "https://localhost:8080/",
          "height": 297
        },
        "outputId": "2cebd114-9972-4390-ef66-5db5b32153cd"
      },
      "outputs": [
        {
          "output_type": "execute_result",
          "data": {
            "text/plain": [
              "<matplotlib.axes._subplots.AxesSubplot at 0x7f28fa097990>"
            ]
          },
          "metadata": {},
          "execution_count": 79
        },
        {
          "output_type": "display_data",
          "data": {
            "text/plain": [
              "<Figure size 432x288 with 1 Axes>"
            ],
            "image/png": "[encoded data removed]"
          },
          "metadata": {
            "needs_background": "light"
          }
        }
      ],
      "source": [
        "arima_df.plot(y=['AR_Prediction', 'Price'])"
      ]
    },
    {
      "cell_type": "markdown",
      "metadata": {
        "id": "NV8RuhRGxi0C"
      },
      "source": [
        "Once you get predicitons like this using AR you would have to, undifference the predictions (which are differenced), but we will not deal with that here. \n",
        "For some hints on how to undifference the data to get actual predictions look [here](https://stackoverflow.com/questions/49903037/pandas-reverse-of-diff)"
      ]
    },
    {
      "cell_type": "markdown",
      "metadata": {
        "id": "Xl2j02DXxi0C"
      },
      "source": [
        "### Problem 5 (1 Point)\n",
        "\n",
        "Phew! Just handling AR(2) manually required us to difference, apply regression, undifference. \n",
        "Let's make all of this much easier with a simple library function\n",
        "\n",
        "- **Use the ARIMA function using parameters picked to forecast values (1 point)**       \n",
        "\n",
        "Hint: Look at ARIMA function the `statstmodels`. Pass the `p,d,q` inferred from the previous tasks          \n",
        "We **DO NOT** need to pass the `transformed_df` to the ARIMA function.          \n",
        "Pass the orirginal `df` as input to ARIMA function, with the `d` value inferred when Transforming the df to make it stationary      \n",
        "The ARIMA function automatically performs the differencing based on the `d` value passed        \n",
        "Store the `.fit()` results in an object named `res`"
      ]
    },
    {
      "cell_type": "code",
      "source": [
        "import statsmodels.api as sm\n",
        "model = sm.tsa.arima.ARIMA(df, order=(2,1,1))\n",
        "res = model.fit()\n",
        "res.summary()"
      ],
      "metadata": {
        "colab": {
          "base_uri": "https://localhost:8080/",
          "height": 606
        },
        "id": "XCanXAf2QcVM",
        "outputId": "24f36bd6-e076-4b21-fcac-087bdb9a4739"
      },
      "execution_count": 80,
      "outputs": [
        {
          "output_type": "stream",
          "name": "stderr",
          "text": [
            "/usr/local/lib/python3.7/dist-packages/statsmodels/tsa/base/tsa_model.py:527: ValueWarning: No frequency information was provided, so inferred frequency D will be used.\n",
            "  % freq, ValueWarning)\n",
            "/usr/local/lib/python3.7/dist-packages/statsmodels/tsa/base/tsa_model.py:527: ValueWarning: No frequency information was provided, so inferred frequency D will be used.\n",
            "  % freq, ValueWarning)\n",
            "/usr/local/lib/python3.7/dist-packages/statsmodels/tsa/base/tsa_model.py:527: ValueWarning: No frequency information was provided, so inferred frequency D will be used.\n",
            "  % freq, ValueWarning)\n",
            "/usr/local/lib/python3.7/dist-packages/statsmodels/base/model.py:568: ConvergenceWarning: Maximum Likelihood optimization failed to converge. Check mle_retvals\n",
            "  ConvergenceWarning)\n"
          ]
        },
        {
          "output_type": "execute_result",
          "data": {
            "text/plain": [
              "<class 'statsmodels.iolib.summary.Summary'>\n",
              "\"\"\"\n",
              "                               SARIMAX Results                                \n",
              "==============================================================================\n",
              "Dep. Variable:                  Price   No. Observations:                  366\n",
              "Model:                 ARIMA(2, 1, 1)   Log Likelihood                1440.153\n",
              "Date:                Fri, 07 Oct 2022   AIC                          -2872.305\n",
              "Time:                        14:14:00   BIC                          -2856.706\n",
              "Sample:                    08-15-2021   HQIC                         -2866.106\n",
              "                         - 08-15-2022                                         \n",
              "Covariance Type:                  opg                                         \n",
              "==============================================================================\n",
              "                 coef    std err          z      P>|z|      [0.025      0.975]\n",
              "------------------------------------------------------------------------------\n",
              "ar.L1         -0.0540      0.048     -1.137      0.256      -0.147       0.039\n",
              "ar.L2         -0.1093      0.052     -2.115      0.034      -0.211      -0.008\n",
              "ma.L1          0.9396      0.021     43.763      0.000       0.898       0.982\n",
              "sigma2      2.201e-05   7.48e-07     29.428      0.000    2.05e-05    2.35e-05\n",
              "===================================================================================\n",
              "Ljung-Box (L1) (Q):                   0.01   Jarque-Bera (JB):              3047.97\n",
              "Prob(Q):                              0.91   Prob(JB):                         0.00\n",
              "Heteroskedasticity (H):               0.15   Skew:                             1.73\n",
              "Prob(H) (two-sided):                  0.00   Kurtosis:                        16.73\n",
              "===================================================================================\n",
              "\n",
              "Warnings:\n",
              "[1] Covariance matrix calculated using the outer product of gradients (complex-step).\n",
              "\"\"\""
            ],
            "text/html": [
              "<table class=\"simpletable\">\n",
              "<caption>SARIMAX Results</caption>\n",
              "<tr>\n",
              "  <th>Dep. Variable:</th>         <td>Price</td>      <th>  No. Observations:  </th>    <td>366</td>   \n",
              "</tr>\n",
              "<tr>\n",
              "  <th>Model:</th>            <td>ARIMA(2, 1, 1)</td>  <th>  Log Likelihood     </th> <td>1440.153</td> \n",
              "</tr>\n",
              "<tr>\n",
              "  <th>Date:</th>            <td>Fri, 07 Oct 2022</td> <th>  AIC                </th> <td>-2872.305</td>\n",
              "</tr>\n",
              "<tr>\n",
              "  <th>Time:</th>                <td>14:14:00</td>     <th>  BIC                </th> <td>-2856.706</td>\n",
              "</tr>\n",
              "<tr>\n",
              "  <th>Sample:</th>             <td>08-15-2021</td>    <th>  HQIC               </th> <td>-2866.106</td>\n",
              "</tr>\n",
              "<tr>\n",
              "  <th></th>                   <td>- 08-15-2022</td>   <th>                     </th>     <td> </td>    \n",
              "</tr>\n",
              "<tr>\n",
              "  <th>Covariance Type:</th>        <td>opg</td>       <th>                     </th>     <td> </td>    \n",
              "</tr>\n",
              "</table>\n",
              "<table class=\"simpletable\">\n",
              "<tr>\n",
              "     <td></td>       <th>coef</th>     <th>std err</th>      <th>z</th>      <th>P>|z|</th>  <th>[0.025</th>    <th>0.975]</th>  \n",
              "</tr>\n",
              "<tr>\n",
              "  <th>ar.L1</th>  <td>   -0.0540</td> <td>    0.048</td> <td>   -1.137</td> <td> 0.256</td> <td>   -0.147</td> <td>    0.039</td>\n",
              "</tr>\n",
              "<tr>\n",
              "  <th>ar.L2</th>  <td>   -0.1093</td> <td>    0.052</td> <td>   -2.115</td> <td> 0.034</td> <td>   -0.211</td> <td>   -0.008</td>\n",
              "</tr>\n",
              "<tr>\n",
              "  <th>ma.L1</th>  <td>    0.9396</td> <td>    0.021</td> <td>   43.763</td> <td> 0.000</td> <td>    0.898</td> <td>    0.982</td>\n",
              "</tr>\n",
              "<tr>\n",
              "  <th>sigma2</th> <td> 2.201e-05</td> <td> 7.48e-07</td> <td>   29.428</td> <td> 0.000</td> <td> 2.05e-05</td> <td> 2.35e-05</td>\n",
              "</tr>\n",
              "</table>\n",
              "<table class=\"simpletable\">\n",
              "<tr>\n",
              "  <th>Ljung-Box (L1) (Q):</th>     <td>0.01</td> <th>  Jarque-Bera (JB):  </th> <td>3047.97</td>\n",
              "</tr>\n",
              "<tr>\n",
              "  <th>Prob(Q):</th>                <td>0.91</td> <th>  Prob(JB):          </th>  <td>0.00</td>  \n",
              "</tr>\n",
              "<tr>\n",
              "  <th>Heteroskedasticity (H):</th> <td>0.15</td> <th>  Skew:              </th>  <td>1.73</td>  \n",
              "</tr>\n",
              "<tr>\n",
              "  <th>Prob(H) (two-sided):</th>    <td>0.00</td> <th>  Kurtosis:          </th>  <td>16.73</td> \n",
              "</tr>\n",
              "</table><br/><br/>Warnings:<br/>[1] Covariance matrix calculated using the outer product of gradients (complex-step)."
            ]
          },
          "metadata": {},
          "execution_count": 80
        }
      ]
    },
    {
      "cell_type": "code",
      "execution_count": 81,
      "metadata": {
        "id": "cVKLXEvExi0C"
      },
      "outputs": [],
      "source": [
        "## TODO: Use ARIMA function"
      ]
    },
    {
      "cell_type": "code",
      "execution_count": 82,
      "metadata": {
        "id": "TSBTSC8kxi0C",
        "colab": {
          "base_uri": "https://localhost:8080/",
          "height": 297
        },
        "outputId": "d9007332-f2af-46d8-c916-c05f032a756b"
      },
      "outputs": [
        {
          "output_type": "execute_result",
          "data": {
            "text/plain": [
              "<matplotlib.axes._subplots.AxesSubplot at 0x7f28fad6c8d0>"
            ]
          },
          "metadata": {},
          "execution_count": 82
        },
        {
          "output_type": "display_data",
          "data": {
            "text/plain": [
              "<Figure size 432x288 with 1 Axes>"
            ],
            "image/png": "[encoded data removed]"
          },
          "metadata": {
            "needs_background": "light"
          }
        }
      ],
      "source": [
        "# # Making predictions and plotting\n",
        "df['Predictions'] = res.predict(0, len(df)-1)\n",
        "df.plot()"
      ]
    },
    {
      "cell_type": "code",
      "execution_count": 83,
      "metadata": {
        "id": "7xyaXgXYxi0C",
        "colab": {
          "base_uri": "https://localhost:8080/",
          "height": 307
        },
        "outputId": "833ca892-38bd-4edf-9772-88b5d63a1cb6"
      },
      "outputs": [
        {
          "output_type": "execute_result",
          "data": {
            "text/plain": [
              "<matplotlib.axes._subplots.AxesSubplot at 0x7f28f9f73d50>"
            ]
          },
          "metadata": {},
          "execution_count": 83
        },
        {
          "output_type": "display_data",
          "data": {
            "text/plain": [
              "<Figure size 432x288 with 1 Axes>"
            ],
            "image/png": "[encoded data removed]"
          },
          "metadata": {
            "needs_background": "light"
          }
        }
      ],
      "source": [
        "# Forecast for 20 future dates after training data ends\n",
        "res.forecast(20).plot()"
      ]
    },
    {
      "cell_type": "markdown",
      "metadata": {
        "id": "ix14IHzRxi0C"
      },
      "source": [
        "### Problem 6 (1 point)"
      ]
    },
    {
      "cell_type": "markdown",
      "metadata": {
        "id": "KVx_7ntCxi0D"
      },
      "source": [
        "- Evaluate the ARIMA model using Ljung Box test. Based on p-value infer if the Model shows lack of fit\n",
        "\n",
        "Hint: Pass the `res.resid` (Residuals of the ARIMA model) as input the Ljung-Box Text.      \n",
        "Pass `lags=[10]`. Set `return_df=True`\n",
        "For inference, refer back to the Null and Alternate Hypotheses of Ljung-Box test. (If p value high, Null Hypothesis is significant)"
      ]
    },
    {
      "cell_type": "code",
      "source": [
        "#import statsmodels.api as sm\n",
        "sm.stats.acorr_ljungbox(res.resid, lags=[10], return_df=True)"
      ],
      "metadata": {
        "id": "8B2CuISjQ_e_",
        "colab": {
          "base_uri": "https://localhost:8080/",
          "height": 81
        },
        "outputId": "18a40b15-11f6-45c4-db5c-16a316efd8f9"
      },
      "execution_count": 84,
      "outputs": [
        {
          "output_type": "execute_result",
          "data": {
            "text/plain": [
              "     lb_stat  lb_pvalue\n",
              "10  0.929177   0.999877"
            ],
            "text/html": [
              "\n",
              "  <div id=\"df-49306c95-4697-41f1-8e72-1f1bd443e511\">\n",
              "    <div class=\"colab-df-container\">\n",
              "      <div>\n",
              "<style scoped>\n",
              "    .dataframe tbody tr th:only-of-type {\n",
              "        vertical-align: middle;\n",
              "    }\n",
              "\n",
              "    .dataframe tbody tr th {\n",
              "        vertical-align: top;\n",
              "    }\n",
              "\n",
              "    .dataframe thead th {\n",
              "        text-align: right;\n",
              "    }\n",
              "</style>\n",
              "<table border=\"1\" class=\"dataframe\">\n",
              "  <thead>\n",
              "    <tr style=\"text-align: right;\">\n",
              "      <th></th>\n",
              "      <th>lb_stat</th>\n",
              "      <th>lb_pvalue</th>\n",
              "    </tr>\n",
              "  </thead>\n",
              "  <tbody>\n",
              "    <tr>\n",
              "      <th>10</th>\n",
              "      <td>0.929177</td>\n",
              "      <td>0.999877</td>\n",
              "    </tr>\n",
              "  </tbody>\n",
              "</table>\n",
              "</div>\n",
              "      <button class=\"colab-df-convert\" onclick=\"convertToInteractive('df-49306c95-4697-41f1-8e72-1f1bd443e511')\"\n",
              "              title=\"Convert this dataframe to an interactive table.\"\n",
              "              style=\"display:none;\">\n",
              "        \n",
              "  <svg xmlns=\"http://www.w3.org/2000/svg\" height=\"24px\"viewBox=\"0 0 24 24\"\n",
              "       width=\"24px\">\n",
              "    <path d=\"M0 0h24v24H0V0z\" fill=\"none\"/>\n",
              "    <path d=\"M18.56 5.44l.94 2.06.94-2.06 2.06-.94-2.06-.94-.94-2.06-.94 2.06-2.06.94zm-11 1L8.5 8.5l.94-2.06 2.06-.94-2.06-.94L8.5 2.5l-.94 2.06-2.06.94zm10 10l.94 2.06.94-2.06 2.06-.94-2.06-.94-.94-2.06-.94 2.06-2.06.94z\"/><path d=\"M17.41 7.96l-1.37-1.37c-.4-.4-.92-.59-1.43-.59-.52 0-1.04.2-1.43.59L10.3 9.45l-7.72 7.72c-.78.78-.78 2.05 0 2.83L4 21.41c.39.39.9.59 1.41.59.51 0 1.02-.2 1.41-.59l7.78-7.78 2.81-2.81c.8-.78.8-2.07 0-2.86zM5.41 20L4 18.59l7.72-7.72 1.47 1.35L5.41 20z\"/>\n",
              "  </svg>\n",
              "      </button>\n",
              "      \n",
              "  <style>\n",
              "    .colab-df-container {\n",
              "      display:flex;\n",
              "      flex-wrap:wrap;\n",
              "      gap: 12px;\n",
              "    }\n",
              "\n",
              "    .colab-df-convert {\n",
              "      background-color: #E8F0FE;\n",
              "      border: none;\n",
              "      border-radius: 50%;\n",
              "      cursor: pointer;\n",
              "      display: none;\n",
              "      fill: #1967D2;\n",
              "      height: 32px;\n",
              "      padding: 0 0 0 0;\n",
              "      width: 32px;\n",
              "    }\n",
              "\n",
              "    .colab-df-convert:hover {\n",
              "      background-color: #E2EBFA;\n",
              "      box-shadow: 0px 1px 2px rgba(60, 64, 67, 0.3), 0px 1px 3px 1px rgba(60, 64, 67, 0.15);\n",
              "      fill: #174EA6;\n",
              "    }\n",
              "\n",
              "    [theme=dark] .colab-df-convert {\n",
              "      background-color: #3B4455;\n",
              "      fill: #D2E3FC;\n",
              "    }\n",
              "\n",
              "    [theme=dark] .colab-df-convert:hover {\n",
              "      background-color: #434B5C;\n",
              "      box-shadow: 0px 1px 3px 1px rgba(0, 0, 0, 0.15);\n",
              "      filter: drop-shadow(0px 1px 2px rgba(0, 0, 0, 0.3));\n",
              "      fill: #FFFFFF;\n",
              "    }\n",
              "  </style>\n",
              "\n",
              "      <script>\n",
              "        const buttonEl =\n",
              "          document.querySelector('#df-49306c95-4697-41f1-8e72-1f1bd443e511 button.colab-df-convert');\n",
              "        buttonEl.style.display =\n",
              "          google.colab.kernel.accessAllowed ? 'block' : 'none';\n",
              "\n",
              "        async function convertToInteractive(key) {\n",
              "          const element = document.querySelector('#df-49306c95-4697-41f1-8e72-1f1bd443e511');\n",
              "          const dataTable =\n",
              "            await google.colab.kernel.invokeFunction('convertToInteractive',\n",
              "                                                     [key], {});\n",
              "          if (!dataTable) return;\n",
              "\n",
              "          const docLinkHtml = 'Like what you see? Visit the ' +\n",
              "            '<a target=\"_blank\" href=https://colab.research.google.com/notebooks/data_table.ipynb>data table notebook</a>'\n",
              "            + ' to learn more about interactive tables.';\n",
              "          element.innerHTML = '';\n",
              "          dataTable['output_type'] = 'display_data';\n",
              "          await google.colab.output.renderOutput(dataTable, element);\n",
              "          const docLink = document.createElement('div');\n",
              "          docLink.innerHTML = docLinkHtml;\n",
              "          element.appendChild(docLink);\n",
              "        }\n",
              "      </script>\n",
              "    </div>\n",
              "  </div>\n",
              "  "
            ]
          },
          "metadata": {},
          "execution_count": 84
        }
      ]
    }
  ],
  "metadata": {
    "kernelspec": {
      "display_name": "Python 3",
      "language": "python",
      "name": "python3"
    },
    "language_info": {
      "codemirror_mode": {
        "name": "ipython",
        "version": 3
      },
      "file_extension": ".py",
      "mimetype": "text/x-python",
      "name": "python",
      "nbconvert_exporter": "python",
      "pygments_lexer": "ipython3",
      "version": "3.8.3"
    },
    "vscode": {
      "interpreter": {
        "hash": "b7b35159d5f3714c312bd281d072de1b51cb405758b497569d7b0919f3fae85c"
      }
    },
    "colab": {
      "provenance": []
    }
  },
  "nbformat": 4,
  "nbformat_minor": 0
}