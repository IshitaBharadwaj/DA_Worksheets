{
  "cells": [
    {
      "cell_type": "markdown",
      "id": "43293aa1",
      "metadata": {
        "id": "43293aa1"
      },
      "source": [
        "# PES University, Bangalore\n",
        "Established under Karnataka Act No. 16 of 2013"
      ]
    },
    {
      "cell_type": "markdown",
      "id": "ce2cfd11",
      "metadata": {
        "id": "ce2cfd11"
      },
      "source": [
        "## UE20CS312 - Data Analytics - Worksheet 4a\n",
        "Course instructor: Gowri Srinivasa, Professor Dept. of CSE, PES University\n",
        "\n",
        "Designed by Harshith Mohan Kumar, Dept. of CSE - harshithmohankumar@pesu.pes.edu\n",
        "\n",
        "**Ishita Bharadwaj, PES1UG20CS648<br/>\n",
        "Collaberated with Hita, PES1UG20CS645 and Jeffrey, PES1UG20CS651**"
      ]
    },
    {
      "cell_type": "markdown",
      "id": "6e54bb19",
      "metadata": {
        "id": "6e54bb19"
      },
      "source": [
        "### Collaborative & Content based filtering\n",
        "The **Collaborative filtering method** for recommender systems is a method that is solely based on the past interactions that have been recorded between users and items, in order to produce new recommendations.\n",
        "\n",
        "The **Content-based** approach uses additional information about users and/or items. The Content-based approach requires a good amount of information about items’ features, rather than using the user’s interactions and feedback."
      ]
    },
    {
      "cell_type": "markdown",
      "id": "85df931b",
      "metadata": {
        "id": "85df931b"
      },
      "source": [
        "### Prerequisites\n",
        "- Revise the following concepts\n",
        "    - TF-IDF\n",
        "    - Content-based filtering\n",
        "    - Cosine Similarity\n",
        "- Install the following software\n",
        "    - pandas\n",
        "    - numpy\n",
        "    - sklearn"
      ]
    },
    {
      "cell_type": "markdown",
      "id": "91724e19",
      "metadata": {
        "id": "91724e19"
      },
      "source": [
        "### Task\n",
        "After the disastrous pitfall of [Game of Thrones season 8](https://en.wikipedia.org/wiki/Game_of_Thrones_(season_8)), George R. R. Martin set out to fix mindless mistakes caused by the producers David and Daniel.\n",
        "\n",
        "A few years down the line, we now are witnessing George R. R. Martin's latest work: [House of the Dragon](https://www.hotstar.com/in/tv/house-of-the-dragon/1260110208). This series is a story of the Targaryen civil war that took place about 200 years before events portrayed in Game of Thrones.\n",
        "\n",
        "In this notebook you will be exploring and analying tweets related to The House of Dragon TV series. First we shall tokenize the textual data using TF-IDF. Then we will proceed to find the top-k most similar tweets using cosine similarity between the transformed vectors.\n",
        "\n",
        "The dataset has been extracted using the [Twitter API](https://developer.twitter.com/en/docs/twitter-api) by utilizing a specific search query. The data has been extensively preprocessed and a small subset has been stored within the `twitter_HOTD_DA_WORKSHEET4A.csv`\n",
        "\n",
        "**Note:** This notebook may contain spoilers to the show."
      ]
    },
    {
      "cell_type": "markdown",
      "id": "b52f6a91",
      "metadata": {
        "id": "b52f6a91"
      },
      "source": [
        "### Data Dictionary\n",
        "**author_id**: A unique identifier assigned to the twitter user.\n",
        "\n",
        "**tweet_id**: A unique identifier assigned to the tweet.\n",
        "\n",
        "**text**: The text associated with the tweet.\n",
        "\n",
        "**retweet_count**: The number of retweets for this particular tweet.\n",
        "\n",
        "**reply_count**: The number of replies for this particular tweet.\n",
        "\n",
        "**like_count**: The number of likes for this particular tweet.\n",
        "\n",
        "**quote_count**: The number of quotes for this particular tweet.\n",
        "\n",
        "**tokens**: List of word tokens extracted from `text`.\n",
        "\n",
        "**hashtags**: List of hashtags extracted from `text`."
      ]
    },
    {
      "cell_type": "markdown",
      "id": "4367b508",
      "metadata": {
        "id": "4367b508"
      },
      "source": [
        "### Points\n",
        "The problems in this worksheet are for a total of 10 points with each problem having a different weightage.\n",
        "- Problem 1: 4 points\n",
        "- Problem 2: 4 points\n",
        "- Problem 3: 2 points"
      ]
    },
    {
      "cell_type": "markdown",
      "id": "350d259e",
      "metadata": {
        "id": "350d259e"
      },
      "source": [
        "### Loading the dataset"
      ]
    },
    {
      "cell_type": "code",
      "execution_count": null,
      "id": "d37bcaf7",
      "metadata": {
        "scrolled": true,
        "id": "d37bcaf7",
        "outputId": "abdaced5-3697-419c-f0e6-76f65a699b0e",
        "colab": {
          "base_uri": "https://localhost:8080/",
          "height": 606
        }
      },
      "outputs": [
        {
          "output_type": "execute_result",
          "data": {
            "text/plain": [
              "                author_id             tweet_id  \\\n",
              "0     1576486223442583554  1577813753902555136   \n",
              "1      732912167846973441  1577813747846254592   \n",
              "2      891426095928672257  1577813743794257920   \n",
              "3               352012951  1577813724366249986   \n",
              "4     1090278774925611008  1577813708818059264   \n",
              "...                   ...                  ...   \n",
              "8056           2916627870  1570663468055040000   \n",
              "8057           2916627870  1570663455606312961   \n",
              "8058           2916627870  1570663389684453378   \n",
              "8059            212524158  1570663558563921922   \n",
              "8060  1497796183279996929  1570663337658298371   \n",
              "\n",
              "                                                   text  retweet_count  \\\n",
              "0     rt i would perform my duty if mother had only ...            327   \n",
              "1      rt viserys look at me!! aemond #houseofthedragon           2164   \n",
              "2     rt house of the dragon is a show about a king ...            905   \n",
              "3     man just thinking of when viserys finally croa...              0   \n",
              "4                          rt jajaja. #houseofthedragon             29   \n",
              "...                                                 ...            ...   \n",
              "8056  rt may i go on record that if matt smith looke...            166   \n",
              "8057  rt good morning to matt smith who is now respo...            125   \n",
              "8058  rt the entire world paused during this #houseo...           2485   \n",
              "8059                                    days left #hotd              0   \n",
              "8060  the #houseofthedragon cast is too small. due t...              0   \n",
              "\n",
              "      reply_count  like_count  quote_count  \\\n",
              "0               0           0            0   \n",
              "1               0           0            0   \n",
              "2               0           0            0   \n",
              "3               0           0            0   \n",
              "4               0           0            0   \n",
              "...           ...         ...          ...   \n",
              "8056            0           0            0   \n",
              "8057            0           0            0   \n",
              "8058            0           0            0   \n",
              "8059            0           5            0   \n",
              "8060            1           3            0   \n",
              "\n",
              "                                                 tokens  \\\n",
              "0            ['perform', 'duty', 'mother', 'betrothed']   \n",
              "1                         ['viserys', 'look', 'aemond']   \n",
              "2     ['house', 'dragon', 'king', 'bunch', 'question...   \n",
              "3     ['man', 'thinking', 'viserys', 'finally', 'cro...   \n",
              "4                                            ['jajaja']   \n",
              "...                                                 ...   \n",
              "8056  ['record', 'matt', 'smith', 'looked', 'like', ...   \n",
              "8057  ['good', 'morning', 'matt', 'smith', 'responsi...   \n",
              "8058                      ['entire', 'world', 'paused']   \n",
              "8059                                   ['days', 'left']   \n",
              "8060  ['cast', 'small', 'producers', 'afford', 'kill...   \n",
              "\n",
              "                                               hashtags  \n",
              "0     ['houseofthedragon', 'aemondtargaryen', 'helae...  \n",
              "1                                  ['houseofthedragon']  \n",
              "2                                                    []  \n",
              "3                                  ['houseofthedragon']  \n",
              "4                                  ['houseofthedragon']  \n",
              "...                                                 ...  \n",
              "8056                                                 []  \n",
              "8057                                                 []  \n",
              "8058                               ['houseofthedragon']  \n",
              "8059                                           ['hotd']  \n",
              "8060             ['houseofthedragon', 'gameofthrones.']  \n",
              "\n",
              "[8061 rows x 9 columns]"
            ],
            "text/html": [
              "\n",
              "  <div id=\"df-902396e6-c1a7-457b-9ab6-313ec8bb6d5b\">\n",
              "    <div class=\"colab-df-container\">\n",
              "      <div>\n",
              "<style scoped>\n",
              "    .dataframe tbody tr th:only-of-type {\n",
              "        vertical-align: middle;\n",
              "    }\n",
              "\n",
              "    .dataframe tbody tr th {\n",
              "        vertical-align: top;\n",
              "    }\n",
              "\n",
              "    .dataframe thead th {\n",
              "        text-align: right;\n",
              "    }\n",
              "</style>\n",
              "<table border=\"1\" class=\"dataframe\">\n",
              "  <thead>\n",
              "    <tr style=\"text-align: right;\">\n",
              "      <th></th>\n",
              "      <th>author_id</th>\n",
              "      <th>tweet_id</th>\n",
              "      <th>text</th>\n",
              "      <th>retweet_count</th>\n",
              "      <th>reply_count</th>\n",
              "      <th>like_count</th>\n",
              "      <th>quote_count</th>\n",
              "      <th>tokens</th>\n",
              "      <th>hashtags</th>\n",
              "    </tr>\n",
              "  </thead>\n",
              "  <tbody>\n",
              "    <tr>\n",
              "      <th>0</th>\n",
              "      <td>1576486223442583554</td>\n",
              "      <td>1577813753902555136</td>\n",
              "      <td>rt i would perform my duty if mother had only ...</td>\n",
              "      <td>327</td>\n",
              "      <td>0</td>\n",
              "      <td>0</td>\n",
              "      <td>0</td>\n",
              "      <td>['perform', 'duty', 'mother', 'betrothed']</td>\n",
              "      <td>['houseofthedragon', 'aemondtargaryen', 'helae...</td>\n",
              "    </tr>\n",
              "    <tr>\n",
              "      <th>1</th>\n",
              "      <td>732912167846973441</td>\n",
              "      <td>1577813747846254592</td>\n",
              "      <td>rt viserys look at me!! aemond #houseofthedragon</td>\n",
              "      <td>2164</td>\n",
              "      <td>0</td>\n",
              "      <td>0</td>\n",
              "      <td>0</td>\n",
              "      <td>['viserys', 'look', 'aemond']</td>\n",
              "      <td>['houseofthedragon']</td>\n",
              "    </tr>\n",
              "    <tr>\n",
              "      <th>2</th>\n",
              "      <td>891426095928672257</td>\n",
              "      <td>1577813743794257920</td>\n",
              "      <td>rt house of the dragon is a show about a king ...</td>\n",
              "      <td>905</td>\n",
              "      <td>0</td>\n",
              "      <td>0</td>\n",
              "      <td>0</td>\n",
              "      <td>['house', 'dragon', 'king', 'bunch', 'question...</td>\n",
              "      <td>[]</td>\n",
              "    </tr>\n",
              "    <tr>\n",
              "      <th>3</th>\n",
              "      <td>352012951</td>\n",
              "      <td>1577813724366249986</td>\n",
              "      <td>man just thinking of when viserys finally croa...</td>\n",
              "      <td>0</td>\n",
              "      <td>0</td>\n",
              "      <td>0</td>\n",
              "      <td>0</td>\n",
              "      <td>['man', 'thinking', 'viserys', 'finally', 'cro...</td>\n",
              "      <td>['houseofthedragon']</td>\n",
              "    </tr>\n",
              "    <tr>\n",
              "      <th>4</th>\n",
              "      <td>1090278774925611008</td>\n",
              "      <td>1577813708818059264</td>\n",
              "      <td>rt jajaja. #houseofthedragon</td>\n",
              "      <td>29</td>\n",
              "      <td>0</td>\n",
              "      <td>0</td>\n",
              "      <td>0</td>\n",
              "      <td>['jajaja']</td>\n",
              "      <td>['houseofthedragon']</td>\n",
              "    </tr>\n",
              "    <tr>\n",
              "      <th>...</th>\n",
              "      <td>...</td>\n",
              "      <td>...</td>\n",
              "      <td>...</td>\n",
              "      <td>...</td>\n",
              "      <td>...</td>\n",
              "      <td>...</td>\n",
              "      <td>...</td>\n",
              "      <td>...</td>\n",
              "      <td>...</td>\n",
              "    </tr>\n",
              "    <tr>\n",
              "      <th>8056</th>\n",
              "      <td>2916627870</td>\n",
              "      <td>1570663468055040000</td>\n",
              "      <td>rt may i go on record that if matt smith looke...</td>\n",
              "      <td>166</td>\n",
              "      <td>0</td>\n",
              "      <td>0</td>\n",
              "      <td>0</td>\n",
              "      <td>['record', 'matt', 'smith', 'looked', 'like', ...</td>\n",
              "      <td>[]</td>\n",
              "    </tr>\n",
              "    <tr>\n",
              "      <th>8057</th>\n",
              "      <td>2916627870</td>\n",
              "      <td>1570663455606312961</td>\n",
              "      <td>rt good morning to matt smith who is now respo...</td>\n",
              "      <td>125</td>\n",
              "      <td>0</td>\n",
              "      <td>0</td>\n",
              "      <td>0</td>\n",
              "      <td>['good', 'morning', 'matt', 'smith', 'responsi...</td>\n",
              "      <td>[]</td>\n",
              "    </tr>\n",
              "    <tr>\n",
              "      <th>8058</th>\n",
              "      <td>2916627870</td>\n",
              "      <td>1570663389684453378</td>\n",
              "      <td>rt the entire world paused during this #houseo...</td>\n",
              "      <td>2485</td>\n",
              "      <td>0</td>\n",
              "      <td>0</td>\n",
              "      <td>0</td>\n",
              "      <td>['entire', 'world', 'paused']</td>\n",
              "      <td>['houseofthedragon']</td>\n",
              "    </tr>\n",
              "    <tr>\n",
              "      <th>8059</th>\n",
              "      <td>212524158</td>\n",
              "      <td>1570663558563921922</td>\n",
              "      <td>days left #hotd</td>\n",
              "      <td>0</td>\n",
              "      <td>0</td>\n",
              "      <td>5</td>\n",
              "      <td>0</td>\n",
              "      <td>['days', 'left']</td>\n",
              "      <td>['hotd']</td>\n",
              "    </tr>\n",
              "    <tr>\n",
              "      <th>8060</th>\n",
              "      <td>1497796183279996929</td>\n",
              "      <td>1570663337658298371</td>\n",
              "      <td>the #houseofthedragon cast is too small. due t...</td>\n",
              "      <td>0</td>\n",
              "      <td>1</td>\n",
              "      <td>3</td>\n",
              "      <td>0</td>\n",
              "      <td>['cast', 'small', 'producers', 'afford', 'kill...</td>\n",
              "      <td>['houseofthedragon', 'gameofthrones.']</td>\n",
              "    </tr>\n",
              "  </tbody>\n",
              "</table>\n",
              "<p>8061 rows × 9 columns</p>\n",
              "</div>\n",
              "      <button class=\"colab-df-convert\" onclick=\"convertToInteractive('df-902396e6-c1a7-457b-9ab6-313ec8bb6d5b')\"\n",
              "              title=\"Convert this dataframe to an interactive table.\"\n",
              "              style=\"display:none;\">\n",
              "        \n",
              "  <svg xmlns=\"http://www.w3.org/2000/svg\" height=\"24px\"viewBox=\"0 0 24 24\"\n",
              "       width=\"24px\">\n",
              "    <path d=\"M0 0h24v24H0V0z\" fill=\"none\"/>\n",
              "    <path d=\"M18.56 5.44l.94 2.06.94-2.06 2.06-.94-2.06-.94-.94-2.06-.94 2.06-2.06.94zm-11 1L8.5 8.5l.94-2.06 2.06-.94-2.06-.94L8.5 2.5l-.94 2.06-2.06.94zm10 10l.94 2.06.94-2.06 2.06-.94-2.06-.94-.94-2.06-.94 2.06-2.06.94z\"/><path d=\"M17.41 7.96l-1.37-1.37c-.4-.4-.92-.59-1.43-.59-.52 0-1.04.2-1.43.59L10.3 9.45l-7.72 7.72c-.78.78-.78 2.05 0 2.83L4 21.41c.39.39.9.59 1.41.59.51 0 1.02-.2 1.41-.59l7.78-7.78 2.81-2.81c.8-.78.8-2.07 0-2.86zM5.41 20L4 18.59l7.72-7.72 1.47 1.35L5.41 20z\"/>\n",
              "  </svg>\n",
              "      </button>\n",
              "      \n",
              "  <style>\n",
              "    .colab-df-container {\n",
              "      display:flex;\n",
              "      flex-wrap:wrap;\n",
              "      gap: 12px;\n",
              "    }\n",
              "\n",
              "    .colab-df-convert {\n",
              "      background-color: #E8F0FE;\n",
              "      border: none;\n",
              "      border-radius: 50%;\n",
              "      cursor: pointer;\n",
              "      display: none;\n",
              "      fill: #1967D2;\n",
              "      height: 32px;\n",
              "      padding: 0 0 0 0;\n",
              "      width: 32px;\n",
              "    }\n",
              "\n",
              "    .colab-df-convert:hover {\n",
              "      background-color: #E2EBFA;\n",
              "      box-shadow: 0px 1px 2px rgba(60, 64, 67, 0.3), 0px 1px 3px 1px rgba(60, 64, 67, 0.15);\n",
              "      fill: #174EA6;\n",
              "    }\n",
              "\n",
              "    [theme=dark] .colab-df-convert {\n",
              "      background-color: #3B4455;\n",
              "      fill: #D2E3FC;\n",
              "    }\n",
              "\n",
              "    [theme=dark] .colab-df-convert:hover {\n",
              "      background-color: #434B5C;\n",
              "      box-shadow: 0px 1px 3px 1px rgba(0, 0, 0, 0.15);\n",
              "      filter: drop-shadow(0px 1px 2px rgba(0, 0, 0, 0.3));\n",
              "      fill: #FFFFFF;\n",
              "    }\n",
              "  </style>\n",
              "\n",
              "      <script>\n",
              "        const buttonEl =\n",
              "          document.querySelector('#df-902396e6-c1a7-457b-9ab6-313ec8bb6d5b button.colab-df-convert');\n",
              "        buttonEl.style.display =\n",
              "          google.colab.kernel.accessAllowed ? 'block' : 'none';\n",
              "\n",
              "        async function convertToInteractive(key) {\n",
              "          const element = document.querySelector('#df-902396e6-c1a7-457b-9ab6-313ec8bb6d5b');\n",
              "          const dataTable =\n",
              "            await google.colab.kernel.invokeFunction('convertToInteractive',\n",
              "                                                     [key], {});\n",
              "          if (!dataTable) return;\n",
              "\n",
              "          const docLinkHtml = 'Like what you see? Visit the ' +\n",
              "            '<a target=\"_blank\" href=https://colab.research.google.com/notebooks/data_table.ipynb>data table notebook</a>'\n",
              "            + ' to learn more about interactive tables.';\n",
              "          element.innerHTML = '';\n",
              "          dataTable['output_type'] = 'display_data';\n",
              "          await google.colab.output.renderOutput(dataTable, element);\n",
              "          const docLink = document.createElement('div');\n",
              "          docLink.innerHTML = docLinkHtml;\n",
              "          element.appendChild(docLink);\n",
              "        }\n",
              "      </script>\n",
              "    </div>\n",
              "  </div>\n",
              "  "
            ]
          },
          "metadata": {},
          "execution_count": 2
        }
      ],
      "source": [
        "# Import pandas\n",
        "import pandas as pd\n",
        "# Use pandas read_csv function to load csv as DataFrame\n",
        "df = pd.read_csv('./twitter_HOTD_DA_WORKSHEET4A.csv')\n",
        "df"
      ]
    },
    {
      "cell_type": "markdown",
      "id": "d1d2e21c",
      "metadata": {
        "id": "d1d2e21c"
      },
      "source": [
        "### Problem 1 (4 points)\n",
        "\n",
        "Tokenize the string representations provided in the **tokens** column of the DataFrame using TF-IDF from sklearn. Then print out the TF-IDF of the first row of the DataFrame.\n",
        "\n",
        "Solution Steps:\n",
        "1. Initialize the `TfidfVectorizer()`\n",
        "2. Use the `.fit_transform()` method on the entire text\n",
        "3. `.transform()` the Text\n",
        "4. Print number of samples and features using `.shape`\n",
        "5. Print the TF-IDF of the first row\n",
        "\n",
        "For futher reference: https://www.analyticsvidhya.com/blog/2021/09/creating-a-movie-reviews-classifier-using-tf-idf-in-python/"
      ]
    },
    {
      "cell_type": "code",
      "execution_count": null,
      "id": "e9962516",
      "metadata": {
        "id": "e9962516"
      },
      "outputs": [],
      "source": [
        "# Imports\n",
        "import numpy as np \n",
        "from sklearn.feature_extraction.text import TfidfVectorizer\n",
        "from sklearn.feature_extraction.text import CountVectorizer\n",
        "from sklearn.feature_extraction.text import TfidfTransformer\n"
      ]
    },
    {
      "cell_type": "code",
      "execution_count": null,
      "id": "30b80d7b",
      "metadata": {
        "scrolled": true,
        "id": "30b80d7b",
        "outputId": "bdf9686a-4104-4bbd-91a1-939183784492",
        "colab": {
          "base_uri": "https://localhost:8080/"
        }
      },
      "outputs": [
        {
          "output_type": "execute_result",
          "data": {
            "text/plain": [
              "['perform duty mother betrothed',\n",
              " 'viserys look aemond',\n",
              " 'house dragon king bunch questionable decisions based idea dead',\n",
              " 'man thinking viserys finally croaks fucking races gon na fucking hate damn cliffhanger making wait year war start lol',\n",
              " 'jajaja']"
            ]
          },
          "metadata": {},
          "execution_count": 4
        }
      ],
      "source": [
        "# Convert string representation of a list into a list of strings\n",
        "import ast\n",
        "text = []\n",
        "for r in df['tokens']:\n",
        "    res = ast.literal_eval(r)\n",
        "    if(' '.join(res).lower() == ''):\n",
        "        print(r)\n",
        "    text.append(' '.join(res).lower())\n",
        "# Print the end result\n",
        "text[:5]"
      ]
    },
    {
      "cell_type": "code",
      "source": [
        "len(text)"
      ],
      "metadata": {
        "colab": {
          "base_uri": "https://localhost:8080/"
        },
        "id": "IhATBzIE1kME",
        "outputId": "59f1a840-2198-480e-d244-9fff24c137b1"
      },
      "id": "IhATBzIE1kME",
      "execution_count": null,
      "outputs": [
        {
          "output_type": "execute_result",
          "data": {
            "text/plain": [
              "8061"
            ]
          },
          "metadata": {},
          "execution_count": 12
        }
      ]
    },
    {
      "cell_type": "code",
      "source": [
        "#using the count vectorizer\n",
        "count = CountVectorizer()\n",
        "word_count=count.fit_transform(text)\n",
        "# print(word_count)\n",
        "word_count.shape"
      ],
      "metadata": {
        "colab": {
          "base_uri": "https://localhost:8080/"
        },
        "id": "4QVmAS2f0VTn",
        "outputId": "257411e6-a1b1-4111-c3c5-57b04fa8c8a6"
      },
      "id": "4QVmAS2f0VTn",
      "execution_count": null,
      "outputs": [
        {
          "output_type": "execute_result",
          "data": {
            "text/plain": [
              "(8061, 10950)"
            ]
          },
          "metadata": {},
          "execution_count": 11
        }
      ]
    },
    {
      "cell_type": "markdown",
      "source": [
        "8061 sentences (list elements in `text`) and 10950 number of unique words in all sentences."
      ],
      "metadata": {
        "id": "g63iJ7Hg1oHY"
      },
      "id": "g63iJ7Hg1oHY"
    },
    {
      "cell_type": "code",
      "source": [
        "print(word_count.toarray())"
      ],
      "metadata": {
        "colab": {
          "base_uri": "https://localhost:8080/"
        },
        "id": "z35Mw7DN139P",
        "outputId": "837cc92e-fea8-435c-a55c-ed453cdec6fb"
      },
      "id": "z35Mw7DN139P",
      "execution_count": null,
      "outputs": [
        {
          "output_type": "stream",
          "name": "stdout",
          "text": [
            "[[0 0 0 ... 0 0 0]\n",
            " [0 0 0 ... 0 0 0]\n",
            " [0 0 0 ... 0 0 0]\n",
            " ...\n",
            " [0 0 0 ... 0 0 0]\n",
            " [0 0 0 ... 0 0 0]\n",
            " [0 0 0 ... 0 0 0]]\n"
          ]
        }
      ]
    },
    {
      "cell_type": "code",
      "source": [
        "tfidf_transformer=TfidfTransformer(smooth_idf=True,use_idf=True)\n",
        "tfidf_transformer.fit(word_count)\n",
        "df_idf = pd.DataFrame(tfidf_transformer.idf_, index=count.get_feature_names_out(),columns=[\"idf_weights\"])"
      ],
      "metadata": {
        "id": "7Q-XyNph2ddB"
      },
      "id": "7Q-XyNph2ddB",
      "execution_count": null,
      "outputs": []
    },
    {
      "cell_type": "code",
      "source": [
        "#inverse document frequency\n",
        "df_idf.sort_values(by=['idf_weights'])"
      ],
      "metadata": {
        "colab": {
          "base_uri": "https://localhost:8080/",
          "height": 424
        },
        "id": "G-L5FJLW2flI",
        "outputId": "97124c62-6b88-4048-cbce-dd3897dd9e54"
      },
      "id": "G-L5FJLW2flI",
      "execution_count": null,
      "outputs": [
        {
          "output_type": "execute_result",
          "data": {
            "text/plain": [
              "            idf_weights\n",
              "dragon         2.158942\n",
              "house          2.161317\n",
              "episode        3.180374\n",
              "rhaenyra       3.340764\n",
              "daemon         3.511810\n",
              "...                 ...\n",
              "hoodie         9.301770\n",
              "hood           9.301770\n",
              "honma          9.301770\n",
              "hoteeel        9.301770\n",
              "lastnights     9.301770\n",
              "\n",
              "[10950 rows x 1 columns]"
            ],
            "text/html": [
              "\n",
              "  <div id=\"df-104c60c2-9a03-4fb5-b6a3-d195c2739f87\">\n",
              "    <div class=\"colab-df-container\">\n",
              "      <div>\n",
              "<style scoped>\n",
              "    .dataframe tbody tr th:only-of-type {\n",
              "        vertical-align: middle;\n",
              "    }\n",
              "\n",
              "    .dataframe tbody tr th {\n",
              "        vertical-align: top;\n",
              "    }\n",
              "\n",
              "    .dataframe thead th {\n",
              "        text-align: right;\n",
              "    }\n",
              "</style>\n",
              "<table border=\"1\" class=\"dataframe\">\n",
              "  <thead>\n",
              "    <tr style=\"text-align: right;\">\n",
              "      <th></th>\n",
              "      <th>idf_weights</th>\n",
              "    </tr>\n",
              "  </thead>\n",
              "  <tbody>\n",
              "    <tr>\n",
              "      <th>dragon</th>\n",
              "      <td>2.158942</td>\n",
              "    </tr>\n",
              "    <tr>\n",
              "      <th>house</th>\n",
              "      <td>2.161317</td>\n",
              "    </tr>\n",
              "    <tr>\n",
              "      <th>episode</th>\n",
              "      <td>3.180374</td>\n",
              "    </tr>\n",
              "    <tr>\n",
              "      <th>rhaenyra</th>\n",
              "      <td>3.340764</td>\n",
              "    </tr>\n",
              "    <tr>\n",
              "      <th>daemon</th>\n",
              "      <td>3.511810</td>\n",
              "    </tr>\n",
              "    <tr>\n",
              "      <th>...</th>\n",
              "      <td>...</td>\n",
              "    </tr>\n",
              "    <tr>\n",
              "      <th>hoodie</th>\n",
              "      <td>9.301770</td>\n",
              "    </tr>\n",
              "    <tr>\n",
              "      <th>hood</th>\n",
              "      <td>9.301770</td>\n",
              "    </tr>\n",
              "    <tr>\n",
              "      <th>honma</th>\n",
              "      <td>9.301770</td>\n",
              "    </tr>\n",
              "    <tr>\n",
              "      <th>hoteeel</th>\n",
              "      <td>9.301770</td>\n",
              "    </tr>\n",
              "    <tr>\n",
              "      <th>lastnights</th>\n",
              "      <td>9.301770</td>\n",
              "    </tr>\n",
              "  </tbody>\n",
              "</table>\n",
              "<p>10950 rows × 1 columns</p>\n",
              "</div>\n",
              "      <button class=\"colab-df-convert\" onclick=\"convertToInteractive('df-104c60c2-9a03-4fb5-b6a3-d195c2739f87')\"\n",
              "              title=\"Convert this dataframe to an interactive table.\"\n",
              "              style=\"display:none;\">\n",
              "        \n",
              "  <svg xmlns=\"http://www.w3.org/2000/svg\" height=\"24px\"viewBox=\"0 0 24 24\"\n",
              "       width=\"24px\">\n",
              "    <path d=\"M0 0h24v24H0V0z\" fill=\"none\"/>\n",
              "    <path d=\"M18.56 5.44l.94 2.06.94-2.06 2.06-.94-2.06-.94-.94-2.06-.94 2.06-2.06.94zm-11 1L8.5 8.5l.94-2.06 2.06-.94-2.06-.94L8.5 2.5l-.94 2.06-2.06.94zm10 10l.94 2.06.94-2.06 2.06-.94-2.06-.94-.94-2.06-.94 2.06-2.06.94z\"/><path d=\"M17.41 7.96l-1.37-1.37c-.4-.4-.92-.59-1.43-.59-.52 0-1.04.2-1.43.59L10.3 9.45l-7.72 7.72c-.78.78-.78 2.05 0 2.83L4 21.41c.39.39.9.59 1.41.59.51 0 1.02-.2 1.41-.59l7.78-7.78 2.81-2.81c.8-.78.8-2.07 0-2.86zM5.41 20L4 18.59l7.72-7.72 1.47 1.35L5.41 20z\"/>\n",
              "  </svg>\n",
              "      </button>\n",
              "      \n",
              "  <style>\n",
              "    .colab-df-container {\n",
              "      display:flex;\n",
              "      flex-wrap:wrap;\n",
              "      gap: 12px;\n",
              "    }\n",
              "\n",
              "    .colab-df-convert {\n",
              "      background-color: #E8F0FE;\n",
              "      border: none;\n",
              "      border-radius: 50%;\n",
              "      cursor: pointer;\n",
              "      display: none;\n",
              "      fill: #1967D2;\n",
              "      height: 32px;\n",
              "      padding: 0 0 0 0;\n",
              "      width: 32px;\n",
              "    }\n",
              "\n",
              "    .colab-df-convert:hover {\n",
              "      background-color: #E2EBFA;\n",
              "      box-shadow: 0px 1px 2px rgba(60, 64, 67, 0.3), 0px 1px 3px 1px rgba(60, 64, 67, 0.15);\n",
              "      fill: #174EA6;\n",
              "    }\n",
              "\n",
              "    [theme=dark] .colab-df-convert {\n",
              "      background-color: #3B4455;\n",
              "      fill: #D2E3FC;\n",
              "    }\n",
              "\n",
              "    [theme=dark] .colab-df-convert:hover {\n",
              "      background-color: #434B5C;\n",
              "      box-shadow: 0px 1px 3px 1px rgba(0, 0, 0, 0.15);\n",
              "      filter: drop-shadow(0px 1px 2px rgba(0, 0, 0, 0.3));\n",
              "      fill: #FFFFFF;\n",
              "    }\n",
              "  </style>\n",
              "\n",
              "      <script>\n",
              "        const buttonEl =\n",
              "          document.querySelector('#df-104c60c2-9a03-4fb5-b6a3-d195c2739f87 button.colab-df-convert');\n",
              "        buttonEl.style.display =\n",
              "          google.colab.kernel.accessAllowed ? 'block' : 'none';\n",
              "\n",
              "        async function convertToInteractive(key) {\n",
              "          const element = document.querySelector('#df-104c60c2-9a03-4fb5-b6a3-d195c2739f87');\n",
              "          const dataTable =\n",
              "            await google.colab.kernel.invokeFunction('convertToInteractive',\n",
              "                                                     [key], {});\n",
              "          if (!dataTable) return;\n",
              "\n",
              "          const docLinkHtml = 'Like what you see? Visit the ' +\n",
              "            '<a target=\"_blank\" href=https://colab.research.google.com/notebooks/data_table.ipynb>data table notebook</a>'\n",
              "            + ' to learn more about interactive tables.';\n",
              "          element.innerHTML = '';\n",
              "          dataTable['output_type'] = 'display_data';\n",
              "          await google.colab.output.renderOutput(dataTable, element);\n",
              "          const docLink = document.createElement('div');\n",
              "          docLink.innerHTML = docLinkHtml;\n",
              "          element.appendChild(docLink);\n",
              "        }\n",
              "      </script>\n",
              "    </div>\n",
              "  </div>\n",
              "  "
            ]
          },
          "metadata": {},
          "execution_count": 16
        }
      ]
    },
    {
      "cell_type": "markdown",
      "source": [
        "TF-IDF of the first\n",
        "row of the DataFrame-"
      ],
      "metadata": {
        "id": "_aLkT-Vr-DpZ"
      },
      "id": "_aLkT-Vr-DpZ"
    },
    {
      "cell_type": "code",
      "source": [
        "#tfidf\n",
        "tf_idf_vector=tfidf_transformer.transform(word_count)\n",
        "feature_names = count.get_feature_names_out()\n",
        "first_document_vector=tf_idf_vector[0]\n",
        "df_tfifd= pd.DataFrame(first_document_vector.T.todense(), index=feature_names, columns=[\"tfidf\"])\n",
        "df_tfifd.sort_values(by=[\"tfidf\"],ascending=False)"
      ],
      "metadata": {
        "colab": {
          "base_uri": "https://localhost:8080/",
          "height": 424
        },
        "id": "teanRPEW23yl",
        "outputId": "38ffc4c9-990d-4227-93ce-3f93952c2886"
      },
      "id": "teanRPEW23yl",
      "execution_count": null,
      "outputs": [
        {
          "output_type": "execute_result",
          "data": {
            "text/plain": [
              "                 tfidf\n",
              "perform       0.563269\n",
              "betrothed     0.563269\n",
              "duty          0.472189\n",
              "mother        0.377483\n",
              "populiariame  0.000000\n",
              "...                ...\n",
              "feeding       0.000000\n",
              "feel          0.000000\n",
              "feeling       0.000000\n",
              "feelings      0.000000\n",
              "ꮯθꮮꭺͳꭼꭱꭺꮮ     0.000000\n",
              "\n",
              "[10950 rows x 1 columns]"
            ],
            "text/html": [
              "\n",
              "  <div id=\"df-16b59411-263c-44ee-8b9c-8322ac44a6f0\">\n",
              "    <div class=\"colab-df-container\">\n",
              "      <div>\n",
              "<style scoped>\n",
              "    .dataframe tbody tr th:only-of-type {\n",
              "        vertical-align: middle;\n",
              "    }\n",
              "\n",
              "    .dataframe tbody tr th {\n",
              "        vertical-align: top;\n",
              "    }\n",
              "\n",
              "    .dataframe thead th {\n",
              "        text-align: right;\n",
              "    }\n",
              "</style>\n",
              "<table border=\"1\" class=\"dataframe\">\n",
              "  <thead>\n",
              "    <tr style=\"text-align: right;\">\n",
              "      <th></th>\n",
              "      <th>tfidf</th>\n",
              "    </tr>\n",
              "  </thead>\n",
              "  <tbody>\n",
              "    <tr>\n",
              "      <th>perform</th>\n",
              "      <td>0.563269</td>\n",
              "    </tr>\n",
              "    <tr>\n",
              "      <th>betrothed</th>\n",
              "      <td>0.563269</td>\n",
              "    </tr>\n",
              "    <tr>\n",
              "      <th>duty</th>\n",
              "      <td>0.472189</td>\n",
              "    </tr>\n",
              "    <tr>\n",
              "      <th>mother</th>\n",
              "      <td>0.377483</td>\n",
              "    </tr>\n",
              "    <tr>\n",
              "      <th>populiariame</th>\n",
              "      <td>0.000000</td>\n",
              "    </tr>\n",
              "    <tr>\n",
              "      <th>...</th>\n",
              "      <td>...</td>\n",
              "    </tr>\n",
              "    <tr>\n",
              "      <th>feeding</th>\n",
              "      <td>0.000000</td>\n",
              "    </tr>\n",
              "    <tr>\n",
              "      <th>feel</th>\n",
              "      <td>0.000000</td>\n",
              "    </tr>\n",
              "    <tr>\n",
              "      <th>feeling</th>\n",
              "      <td>0.000000</td>\n",
              "    </tr>\n",
              "    <tr>\n",
              "      <th>feelings</th>\n",
              "      <td>0.000000</td>\n",
              "    </tr>\n",
              "    <tr>\n",
              "      <th>ꮯθꮮꭺͳꭼꭱꭺꮮ</th>\n",
              "      <td>0.000000</td>\n",
              "    </tr>\n",
              "  </tbody>\n",
              "</table>\n",
              "<p>10950 rows × 1 columns</p>\n",
              "</div>\n",
              "      <button class=\"colab-df-convert\" onclick=\"convertToInteractive('df-16b59411-263c-44ee-8b9c-8322ac44a6f0')\"\n",
              "              title=\"Convert this dataframe to an interactive table.\"\n",
              "              style=\"display:none;\">\n",
              "        \n",
              "  <svg xmlns=\"http://www.w3.org/2000/svg\" height=\"24px\"viewBox=\"0 0 24 24\"\n",
              "       width=\"24px\">\n",
              "    <path d=\"M0 0h24v24H0V0z\" fill=\"none\"/>\n",
              "    <path d=\"M18.56 5.44l.94 2.06.94-2.06 2.06-.94-2.06-.94-.94-2.06-.94 2.06-2.06.94zm-11 1L8.5 8.5l.94-2.06 2.06-.94-2.06-.94L8.5 2.5l-.94 2.06-2.06.94zm10 10l.94 2.06.94-2.06 2.06-.94-2.06-.94-.94-2.06-.94 2.06-2.06.94z\"/><path d=\"M17.41 7.96l-1.37-1.37c-.4-.4-.92-.59-1.43-.59-.52 0-1.04.2-1.43.59L10.3 9.45l-7.72 7.72c-.78.78-.78 2.05 0 2.83L4 21.41c.39.39.9.59 1.41.59.51 0 1.02-.2 1.41-.59l7.78-7.78 2.81-2.81c.8-.78.8-2.07 0-2.86zM5.41 20L4 18.59l7.72-7.72 1.47 1.35L5.41 20z\"/>\n",
              "  </svg>\n",
              "      </button>\n",
              "      \n",
              "  <style>\n",
              "    .colab-df-container {\n",
              "      display:flex;\n",
              "      flex-wrap:wrap;\n",
              "      gap: 12px;\n",
              "    }\n",
              "\n",
              "    .colab-df-convert {\n",
              "      background-color: #E8F0FE;\n",
              "      border: none;\n",
              "      border-radius: 50%;\n",
              "      cursor: pointer;\n",
              "      display: none;\n",
              "      fill: #1967D2;\n",
              "      height: 32px;\n",
              "      padding: 0 0 0 0;\n",
              "      width: 32px;\n",
              "    }\n",
              "\n",
              "    .colab-df-convert:hover {\n",
              "      background-color: #E2EBFA;\n",
              "      box-shadow: 0px 1px 2px rgba(60, 64, 67, 0.3), 0px 1px 3px 1px rgba(60, 64, 67, 0.15);\n",
              "      fill: #174EA6;\n",
              "    }\n",
              "\n",
              "    [theme=dark] .colab-df-convert {\n",
              "      background-color: #3B4455;\n",
              "      fill: #D2E3FC;\n",
              "    }\n",
              "\n",
              "    [theme=dark] .colab-df-convert:hover {\n",
              "      background-color: #434B5C;\n",
              "      box-shadow: 0px 1px 3px 1px rgba(0, 0, 0, 0.15);\n",
              "      filter: drop-shadow(0px 1px 2px rgba(0, 0, 0, 0.3));\n",
              "      fill: #FFFFFF;\n",
              "    }\n",
              "  </style>\n",
              "\n",
              "      <script>\n",
              "        const buttonEl =\n",
              "          document.querySelector('#df-16b59411-263c-44ee-8b9c-8322ac44a6f0 button.colab-df-convert');\n",
              "        buttonEl.style.display =\n",
              "          google.colab.kernel.accessAllowed ? 'block' : 'none';\n",
              "\n",
              "        async function convertToInteractive(key) {\n",
              "          const element = document.querySelector('#df-16b59411-263c-44ee-8b9c-8322ac44a6f0');\n",
              "          const dataTable =\n",
              "            await google.colab.kernel.invokeFunction('convertToInteractive',\n",
              "                                                     [key], {});\n",
              "          if (!dataTable) return;\n",
              "\n",
              "          const docLinkHtml = 'Like what you see? Visit the ' +\n",
              "            '<a target=\"_blank\" href=https://colab.research.google.com/notebooks/data_table.ipynb>data table notebook</a>'\n",
              "            + ' to learn more about interactive tables.';\n",
              "          element.innerHTML = '';\n",
              "          dataTable['output_type'] = 'display_data';\n",
              "          await google.colab.output.renderOutput(dataTable, element);\n",
              "          const docLink = document.createElement('div');\n",
              "          docLink.innerHTML = docLinkHtml;\n",
              "          element.appendChild(docLink);\n",
              "        }\n",
              "      </script>\n",
              "    </div>\n",
              "  </div>\n",
              "  "
            ]
          },
          "metadata": {},
          "execution_count": 45
        }
      ]
    },
    {
      "cell_type": "code",
      "source": [
        "tf_idf_vector[0].shape"
      ],
      "metadata": {
        "colab": {
          "base_uri": "https://localhost:8080/"
        },
        "id": "6MQuP_Qx9g2M",
        "outputId": "e33e1545-831d-4bc6-c64f-e395299a175d"
      },
      "id": "6MQuP_Qx9g2M",
      "execution_count": null,
      "outputs": [
        {
          "output_type": "execute_result",
          "data": {
            "text/plain": [
              "(1, 10950)"
            ]
          },
          "metadata": {},
          "execution_count": 44
        }
      ]
    },
    {
      "cell_type": "markdown",
      "id": "a148335d",
      "metadata": {
        "id": "a148335d"
      },
      "source": [
        "### Problem 2 (4 points)\n",
        "\n",
        "Find the top-5 most similar tweets to the tweet with index `7558` using cosine similarity between the TF-IDF vectors.\n",
        "\n",
        "Solution Steps:\n",
        "1. Import `cosine_similarity` from sklearn.metrics.pairwise\n",
        "2. Compute `cosine_similarity` using text_tf with index `7558` and all other rows\n",
        "3. Use `argsort` to sort the cosine_similarity results\n",
        "4. Print indices of top-5 most similar results from sorted array (hint: argsort sorts in ascending order)\n",
        "5. Display text of top-5 most similar results using `df.iloc[index]`"
      ]
    },
    {
      "cell_type": "code",
      "execution_count": null,
      "id": "828f9966",
      "metadata": {
        "scrolled": true,
        "id": "828f9966",
        "outputId": "9ec37cd6-3ff7-4cac-b4ad-0070d0f09b99"
      },
      "outputs": [
        {
          "name": "stdout",
          "output_type": "stream",
          "text": [
            "viserys wanna build lego set mind business let man live peace\n",
            "rt viserys just wanna build his lego set and mind his business . let that man live in peace #houseofthedragon\n"
          ]
        }
      ],
      "source": [
        "# Print out the tokens from index `7654`\n",
        "print(text[7558])\n",
        "# Print out the text from index `7654`\n",
        "print(df.iloc[7558][2])"
      ]
    },
    {
      "cell_type": "code",
      "source": [
        "# Print out the tokens from index `7595`\n",
        "print(text[7595])\n",
        "# Print out the text from index `7595`\n",
        "print(df.iloc[7595][2])"
      ],
      "metadata": {
        "colab": {
          "base_uri": "https://localhost:8080/"
        },
        "id": "JyuiHA_lH1J_",
        "outputId": "c4a5d7ab-fe11-4346-c2ff-3cf561ca4298"
      },
      "id": "JyuiHA_lH1J_",
      "execution_count": null,
      "outputs": [
        {
          "output_type": "stream",
          "name": "stdout",
          "text": [
            "viserys wanna build lego set mind business let man live peace\n",
            "viserys just wanna build his lego set and mind his business . let that man live in peace #houseofthedragon\n"
          ]
        }
      ]
    },
    {
      "cell_type": "code",
      "source": [
        "# Print out the tokens from index `7595`\n",
        "print(text[3656])\n",
        "# Print out the text from index `7595`\n",
        "print(df.iloc[3656][2])"
      ],
      "metadata": {
        "colab": {
          "base_uri": "https://localhost:8080/"
        },
        "id": "JXjDagUCIAxJ",
        "outputId": "b2700132-8395-4a12-fab4-0af9e1bf094a"
      },
      "id": "JXjDagUCIAxJ",
      "execution_count": null,
      "outputs": [
        {
          "output_type": "stream",
          "name": "stdout",
          "text": [
            "man literally trying build lego set valyria deal shit\n",
            "rt my man's literally just trying to build a lego set of valyria but has to deal with all this shit. #hotd #houseofthedra...\n"
          ]
        }
      ]
    },
    {
      "cell_type": "code",
      "source": [
        "from sklearn.metrics.pairwise import cosine_similarity\n",
        "import numpy as np\n",
        "cs= {}\n",
        "\n",
        "for i in range(len(text)):\n",
        "  cs[i]=float(cosine_similarity(tf_idf_vector[i],tf_idf_vector[7558]))\n"
      ],
      "metadata": {
        "id": "jVPYLxQ7_eMe"
      },
      "id": "jVPYLxQ7_eMe",
      "execution_count": null,
      "outputs": []
    },
    {
      "cell_type": "code",
      "source": [
        "d=dict(sorted(cs.items(), key=lambda item: item[1],reverse=True))"
      ],
      "metadata": {
        "id": "mJNpNUJuHaJo"
      },
      "id": "mJNpNUJuHaJo",
      "execution_count": null,
      "outputs": []
    },
    {
      "cell_type": "code",
      "source": [
        "import itertools\n",
        "out = dict(itertools.islice(d.items(), 6))"
      ],
      "metadata": {
        "id": "ErpRneiMIeDV"
      },
      "id": "ErpRneiMIeDV",
      "execution_count": null,
      "outputs": []
    },
    {
      "cell_type": "code",
      "source": [
        "out"
      ],
      "metadata": {
        "colab": {
          "base_uri": "https://localhost:8080/"
        },
        "id": "t9EicvS0Hcmi",
        "outputId": "a400942a-2b88-4bfd-cc5f-ae3394673060"
      },
      "id": "t9EicvS0Hcmi",
      "execution_count": null,
      "outputs": [
        {
          "output_type": "execute_result",
          "data": {
            "text/plain": [
              "{7558: 1.0,\n",
              " 7595: 1.0,\n",
              " 3656: 0.42562320434123724,\n",
              " 6548: 0.3798704794558604,\n",
              " 7705: 0.2825189055056654,\n",
              " 3534: 0.2694649041162415}"
            ]
          },
          "metadata": {},
          "execution_count": 113
        }
      ]
    },
    {
      "cell_type": "code",
      "source": [
        "for k,v in out.items():\n",
        "  print(k,\": \",df.iloc[k][2])"
      ],
      "metadata": {
        "colab": {
          "base_uri": "https://localhost:8080/"
        },
        "id": "AHOEjHT6I01z",
        "outputId": "b65fc602-dd24-4a05-f86b-2f0e9e55449c"
      },
      "id": "AHOEjHT6I01z",
      "execution_count": null,
      "outputs": [
        {
          "output_type": "stream",
          "name": "stdout",
          "text": [
            "7558 :  rt viserys just wanna build his lego set and mind his business . let that man live in peace #houseofthedragon\n",
            "7595 :  viserys just wanna build his lego set and mind his business . let that man live in peace #houseofthedragon\n",
            "3656 :  rt my man's literally just trying to build a lego set of valyria but has to deal with all this shit. #hotd #houseofthedra...\n",
            "6548 :  rt daemon and rhaenyra are never letting this man live in peace 😭 #houseofthedragon #houseofthedragonhbo\n",
            "7705 :  mom said it's my turn on the valyrian lego set ( #houseofthedragon\n",
            "3534 :  rt don't play with them. they're here for business only. #houseofthedragon\n"
          ]
        }
      ]
    },
    {
      "cell_type": "markdown",
      "id": "dc084c7a",
      "metadata": {
        "id": "dc084c7a"
      },
      "source": [
        "### Problem 3 (2 point)\n",
        "\n",
        "A great disadvantage in using TF-IDF is that it can not capture semantics. If you had classify tweets into positive/negative, what technique would you use to map words to vectors? In short words, provide the sequence of solution steps to solve this task. Note: Assume sentiment labels have been provided. \n",
        "\n",
        "(Hint: take a look at how I've provided solution steps in previous problems)"
      ]
    },
    {
      "cell_type": "markdown",
      "source": [
        "We can use Bag Of Words (BoW) or TF-IDF or Word2Vec to extract features of the tweets numerically before we train a model with them.\n",
        "TF-IDF and BoW cannot capture high-level semantic meanings behind text data. However Word2Vec preserves the relationship between words in a sentence,  keeping it's semantics.\n",
        "Word2Vec maps all the words into vector of a given dimension - called word embeddings. These are used as features to train a model(a postive-negative classifier in our case).\n",
        "Words in a similar context have similar embeddings.\n",
        "\n",
        "\n",
        "1. Read file\n",
        "2. Cleaning - Remove numbers, stopwords, and special characters.(like punctuation marks)\n",
        "3. Tokenise the corpus. (`token` field in df/dataset)\n",
        "\n",
        "          tokenized_tweet = df.tidy_tweet.apply(lambda x: x.split())\n",
        "\n",
        "4. Preprocessing - Apply stemming, lemmatisation on the stitched-back-to-tweet tokens.\n",
        "          for i in range(len(tokenized_tweet)):\n",
        "            tokenized_tweet[i] = ' '.join(tokenized_tweet[i])   \n",
        "            df['tidy_tweet'] = tokenized_tweet\n",
        "\n",
        "5. Apply `Word2Vec` on the preprocessed tweets.\n",
        "\n",
        "            model_w2v = gensim.models.Word2Vec(\n",
        "            tokenized_tweet,\n",
        "            size=200, # desired no. of features/independent variables\n",
        "            window=5, # context window size\n",
        "            min_count=2, # Ignores all words with total frequency lower than 2.                          \n",
        "            sg = 1, # 1 for skip-gram model\n",
        "            hs = 0,\n",
        "            negative = 10, # for negative sampling\n",
        "            workers= 32, # no.of cores\n",
        "            seed = 34\n",
        "            ) \n",
        "\n",
        "            model_w2v.train(tokenized_tweet, total_examples= len(combi['tidy_tweet']), epochs=20)\n"
      ],
      "metadata": {
        "id": "_AM8FABMNTRK"
      },
      "id": "_AM8FABMNTRK"
    }
  ],
  "metadata": {
    "kernelspec": {
      "display_name": "Python 3 (ipykernel)",
      "language": "python",
      "name": "python3"
    },
    "language_info": {
      "codemirror_mode": {
        "name": "ipython",
        "version": 3
      },
      "file_extension": ".py",
      "mimetype": "text/x-python",
      "name": "python",
      "nbconvert_exporter": "python",
      "pygments_lexer": "ipython3",
      "version": "3.8.10"
    },
    "colab": {
      "provenance": [],
      "collapsed_sections": []
    }
  },
  "nbformat": 4,
  "nbformat_minor": 5
}