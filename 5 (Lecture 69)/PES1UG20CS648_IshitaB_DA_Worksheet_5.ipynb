{
 "cells": [
  {
   "cell_type": "markdown",
   "metadata": {
    "id": "c6sJ6BEOzkKN"
   },
   "source": [
    "# PES University, Bangalore\n",
    "Established under Karnataka Act No. 16 of 2013"
   ]
  },
  {
   "cell_type": "markdown",
   "metadata": {
    "id": "mOlFr-Yjzoxl"
   },
   "source": [
    "UE20CS312 - Data Analytics - Worksheet 5\n",
    "Course instructor: Gowri Srinivasa, Professor Dept. of CSE, PES University\n",
    "\n",
    "## Name: Ishita Bharadwaj <BR>\n",
    "## SRN : PES1UG20CS648\n",
    "### Collaborated with Hita (645) and Jeffrey (651)"
   ]
  },
  {
   "cell_type": "markdown",
   "metadata": {
    "id": "_GsPyyRnEXzY"
   },
   "source": [
    "# Markov Chains and AB Testing"
   ]
  },
  {
   "cell_type": "markdown",
   "metadata": {
    "id": "85iOffRu2nhi"
   },
   "source": [
    "# Scenario 2\n",
    "\n",
    "Its a freezing day in New york, Commisioner Wench has sent a report to Captain Holt that the 99th precinct has much lower reported crimes compared to other precincts. Upon Analysis Captain Holt decides to add feedback unit along with the 4 major units to analyse this descripency. All the units are mentioned below\n",
    "\n",
    "1.   Major Crimes\n",
    "2.   Traffic\n",
    "3.   General crimes\n",
    "4.   Feedback\n",
    "5.   Theft\n",
    "\n",
    "---\n",
    "---\n",
    "<br>\n",
    "\n",
    "The initial probablity of a person going to a particular unit on a particular day is given as follows\n",
    "\n",
    "\n",
    "<br>\n",
    "\n",
    "Major Crimes | Traffic | General crimes | Feedback | Theft\n",
    ":----------: | :-----: | :------------: | :--------: | :---:\n",
    "0.3 | 0.4 | 0.1 | 0.15 | 0.05 \n",
    "<br>\n",
    "\n",
    "\n",
    "To measure how many people will go to the feedback unit, the personel files of all employees are give to the **_Move-o-Tron 99_** and it gives us the following matrix which shows us the probability of people moving from one unit to another on a particular day . It is known that the **_Move-o-Tron 99_** alwasy outputs matices which follow a first order Markov chain. \n",
    "\n",
    "| |Major Crimes|Traffic|General crimes|Feedback|Theft|\n",
    "|---|---|---|---|---|---|\n",
    "|Major Crimes|0\\.002|0\\.666|0\\.31|0\\.0|0\\.022|\n",
    "|Traffic|0\\.466|0\\.102|0\\.222|0\\.0|0\\.21|\n",
    "|General crimes|0\\.022|0\\.11|0\\.502|0\\.0|0\\.366|\n",
    "|Feedback|0\\.0|0\\.0|0\\.0|1\\.0|0\\.0|\n",
    "|Theft|0\\.11|0\\.122|0\\.066|0\\.0|0\\.702|\n",
    "\n",
    "As the people of New York are smart the will learn where all the units are present and hence the next days (day 1) distribution will be the distribution present at the end of the current day (day 0). Captain holt want to check if the matrix given by the **_Move-o-Tron_** can be used to model the footfall.\n",
    "\n"
   ]
  },
  {
   "cell_type": "markdown",
   "metadata": {
    "id": "huFKsPfVqWJC"
   },
   "source": [
    "## Problem 1 (2 points)\n",
    "\n",
    "1. What technique can be used to model the probability of people going to the correct unit to report thier crime after N days? (0 points)\n",
    "2. Is the chain irreducible? Justify (0.5 point)\n",
    "3. What will be the intital probability of a person going to a particular unit after 1 day, 2 days, 10 days, 1000 days and 1001 days. (1 point)\n",
    " \n",
    " Hint: Use the  Chapman−Kolmogorov relationship\n",
    "\n",
    "     ```python\n",
    "    # C = A.B\n",
    "    matrix_C = np.dot(matrix_A, matrix_B)\n",
    "\n",
    "    # C = A.(B^4) can be replaced by\n",
    "    matrix_C = matrix_A\n",
    "    for _ in range(4):\n",
    "        matrix_C = np.dot(matrix_C, matrix_B)\n",
    "    ```\n",
    "\n",
    "4. What can you say about the markov chain from state of intital probability of a person going to a particular unit after 1000 and 1001 days? (0.5 points)"
   ]
  },
  {
   "cell_type": "code",
   "execution_count": 1,
   "metadata": {
    "id": "suNEfAXfy9dA"
   },
   "outputs": [],
   "source": [
    "# Importing Libraries\n",
    "%matplotlib inline\n",
    "import numpy as np\n",
    "import pandas as pd\n",
    "import matplotlib.pyplot as plt\n"
   ]
  },
  {
   "cell_type": "code",
   "execution_count": 2,
   "metadata": {
    "colab": {
     "base_uri": "https://localhost:8080/"
    },
    "id": "UbQTk1ZMPyNq",
    "outputId": "01bc14f0-eb2b-4afd-b7d2-177ab142579c"
   },
   "outputs": [
    {
     "name": "stdout",
     "output_type": "stream",
     "text": [
      "intital probability of a person going to a particular unit after 1 day:  [[0.1947 0.2577 0.2353 0.15   0.1623]]\n",
      "intital probability of a person going to a particular unit after 2 day:  [[0.1435072 0.2016392 0.2463988 0.15      0.2584548]]\n",
      "intital probability of a person going to a particular unit after 10 day:  [[0.12139467 0.16406836 0.1973962  0.15       0.36714077]]\n",
      "intital probability of a person going to a particular unit after 100 day:  [[0.1214373  0.16411091 0.19739717 0.15       0.36705462]]\n",
      "intital probability of a person going to a particular unit after 1000 day:  [[0.1214373  0.16411091 0.19739717 0.15       0.36705462]]\n",
      "intital probability of a person going to a particular unit after 1001 day:  [[0.1214373  0.16411091 0.19739717 0.15       0.36705462]]\n"
     ]
    }
   ],
   "source": [
    "# encoding the probabilities as a numpy array\n",
    "trans_array = np.array([\n",
    "    [0.002, 0.666, 0.31, 0, 0.022],\n",
    "    [0.466, 0.102, 0.222, 0, 0.21],\n",
    "    [0.022, 0.11, 0.502, 0, 0.366],\n",
    "    [0, 0, 0, 1, 0],\n",
    "    [0.11, 0.122, 0.066, 0, 0.702]\n",
    "])\n",
    "# ensures that the probabilities sum to 1\n",
    "assert(trans_array[0].sum() == 1.0)\n",
    "assert(trans_array[1].sum() == 1.0)\n",
    "assert(trans_array[2].sum() == 1.0)\n",
    "assert(trans_array[3].sum() == 1.0)\n",
    "assert(trans_array[4].sum() == 1.0)\n",
    "\n",
    "\n",
    "\n",
    "# encoding the initial probability of as a numpy array\n",
    "state = np.array([[0.3, 0.4, 0.1, 0.15, 0.05]])\n",
    "assert(state[0].sum() == 1.0)\n",
    "\n",
    "# C = A.B\n",
    "# matrix_C = np.dot(state, trans_array)\n",
    " # C = A.(B^4) can be replaced by\n",
    " \n",
    "matrix_C = state\n",
    "for _ in range(1):\n",
    "    matrix_C = np.dot(matrix_C, trans_array)\n",
    "\n",
    "print(\"intital probability of a person going to a particular unit after 1 day: \", matrix_C)\n",
    "\n",
    "matrix_C = state\n",
    "for _ in range(2):\n",
    "    matrix_C = np.dot(matrix_C, trans_array)\n",
    "\n",
    "print(\"intital probability of a person going to a particular unit after 2 day: \", matrix_C)\n",
    "\n",
    "matrix_C = state\n",
    "for _ in range(10):\n",
    "    matrix_C = np.dot(matrix_C, trans_array)\n",
    "\n",
    "print(\"intital probability of a person going to a particular unit after 10 day: \", matrix_C)\n",
    "\n",
    "matrix_C = state\n",
    "for _ in range(100):\n",
    "    matrix_C = np.dot(matrix_C, trans_array)\n",
    "\n",
    "print(\"intital probability of a person going to a particular unit after 100 day: \", matrix_C)\n",
    "\n",
    "matrix_C = state\n",
    "for _ in range(1000):\n",
    "    matrix_C = np.dot(matrix_C, trans_array)\n",
    "\n",
    "print(\"intital probability of a person going to a particular unit after 1000 day: \", matrix_C)\n",
    "\n",
    "\n",
    "matrix_C = state\n",
    "for _ in range(1001):\n",
    "    matrix_C = np.dot(matrix_C, trans_array)\n",
    "\n",
    "print(\"intital probability of a person going to a particular unit after 1001 day: \", matrix_C)"
   ]
  },
  {
   "cell_type": "code",
   "execution_count": 3,
   "metadata": {
    "colab": {
     "base_uri": "https://localhost:8080/",
     "height": 265
    },
    "id": "UamE_vrj-DXM",
    "outputId": "d8fa42e7-6842-4193-b22f-5beeedf9e762"
   },
   "outputs": [
    {
     "data": {
      "image/png": "[encoded data removed]",
      "text/plain": [
       "<Figure size 432x288 with 1 Axes>"
      ]
     },
     "metadata": {
      "needs_background": "light"
     },
     "output_type": "display_data"
    }
   ],
   "source": [
    "## visualising convergence \n",
    "from random import seed\n",
    "from random import random\n",
    "stateHist=state\n",
    "c=state\n",
    "dfStateHist=pd.DataFrame(state)\n",
    "distr_hist = [[0,0,0,0,0]]\n",
    "for x in range(0,200):\n",
    "  c=np.dot(c,trans_array)\n",
    "  # print(state)\n",
    "  stateHist=np.append(stateHist,c,axis=0)\n",
    "  dfDistrHist = pd.DataFrame(stateHist)\n",
    "dfDistrHist.plot()\n",
    "plt.show()"
   ]
  },
  {
   "cell_type": "markdown",
   "metadata": {
    "id": "mFPjg7VZl_d5"
   },
   "source": [
    "### **INFERENCES FOR PROBLEM 1**\n",
    "1. P [i]* (P[j] ^ n)\n",
    "2. Feedback is an isolated state with a self loop ( i.e. it cannot be reached from other states).\n",
    "  The entire chain is <b>not irreducible</b> as the feedback state cannot be reached from other states. \n",
    "3. The initial probabilities of a person going to a particular unit after 1,2,10,100,1000 and 1001 days are shown above.\n",
    "4. The markov chain has the same probabilities for 100,1000,1001 days.\n",
    "Hence the markov chain converges"
   ]
  },
  {
   "cell_type": "markdown",
   "metadata": {
    "id": "sf_CCUyONV-f"
   },
   "source": [
    "---\n",
    "\n",
    "After analysing the model Captain holt calls the squad and educates them to ask people to give feedbacks. And the details of the squad are given to the **_Move-o-Tron 99_**. After reanalyising the report the **_Move-o-Tron 99_** gave out a new Matrix, which is shown below\n",
    "\n",
    "| |Major Crimes|Traffic|General crimes|Feedback|Theft|\n",
    "|---|---|---|---|---|---|\n",
    "|Major Crimes|0\\.002|0\\.666|0\\.01|0\\.02|0\\.302|\n",
    "|Traffic|0\\.466|0\\.102|0\\.02|0\\.032|0\\.38|\n",
    "|General crimes|0\\.0|0\\.0|1\\.0|0\\.0|0\\.0|\n",
    "|Feedback|0\\.0|0\\.0|0\\.0|1\\.0|0\\.0|\n",
    "|Theft|0\\.11|0\\.122|0\\.066|0\\.004|0\\.698|\n",
    "\n",
    "<br>\n",
    "Considering the new report the model has to be re-evaluated. The initial probablity of a person going to a particular unit on a particular day remains the same.\n",
    "<br>\n",
    "\n",
    "\n",
    "\n"
   ]
  },
  {
   "cell_type": "markdown",
   "metadata": {
    "id": "8lRMZtNWflnn"
   },
   "source": []
  },
  {
   "cell_type": "markdown",
   "metadata": {
    "id": "bVIGVQhMUthf"
   },
   "source": [
    "## Problem 2 (4 points)\n",
    "\n",
    "\n",
    "1. Is the chain irreducible? Justify (0.5 point)\n",
    "2. What will be the intital probability of a person going to a particular unit after 1 day, 2 days, 10 days, 1000 days and 1001 days. (1 point)\n",
    " \n",
    " Hint: Use the  Chapman−Kolmogorov relationship\n",
    "\n",
    "3. What can you say about the markov chain from state of intital probability of a person going to a particular unit after 1000 and 1001 days? (0.5 points)\n",
    "\n",
    "\n",
    "4. Summer Edgecombe is Confidential Informant (CI) to the Officer Kimbal Cho and comes in every day to the police station. If on the first day she goes to the Major crimes Unit what will be the probability that she gives a feedback? (2 points)\n",
    "\n",
    "    ```python\n",
    "    # np.delete()\n",
    "    # https://note.nkmk.me/en/python-numpy-delete/#:~:text=Using%20the%20NumPy%20function%20np,from%20the%20NumPy%20array%20ndarray%20.&text=Specify%20the%20axis%20(dimension)%20and,a%20slice%20or%20a%20list.\n",
    "\n",
    "    print(a)\n",
    "    # [[ 0  1  2  3]\n",
    "    #  [ 4  5  6  7]\n",
    "    #  [ 8  9 10 11]]\n",
    "\n",
    "    print(np.delete(a, 1, 0))\n",
    "    # [[ 0  1  2  3]\n",
    "    #  [ 8  9 10 11]]\n",
    "\n",
    "    print(np.delete(a, 1, 1))\n",
    "    # [[ 0  2  3]\n",
    "    #  [ 4  6  7]\n",
    "    #  [ 8 10 11]]\n",
    "\n",
    "    # Deleting multiple rows or columns\n",
    "    print(np.delete(a, [0, 3], 1))\n",
    "    # [[ 1  2]\n",
    "    #  [ 5  6]\n",
    "    #  [ 9 10]]\n",
    "\n",
    "    # Deleting rows and columns\n",
    "    print(np.delete(np.delete(a, 1, 0), 1, 1))\n",
    "    # [[ 0  2  3]\n",
    "    #  [ 8 10 11]]\n",
    "\n",
    "    # matrix multiplication or cross pdt C = A*B\n",
    "    matrix_C = matrix_A @ matrix_B # matrix_C = np.matmul(matrix_A, matrix_B)\n",
    "\n",
    "    ```"
   ]
  },
  {
   "cell_type": "code",
   "execution_count": 4,
   "metadata": {
    "colab": {
     "base_uri": "https://localhost:8080/"
    },
    "id": "7cO2IP4BL3PC",
    "outputId": "9b075548-d901-498d-ad23-b4c5fc571a13"
   },
   "outputs": [
    {
     "name": "stdout",
     "output_type": "stream",
     "text": [
      "intital probability of a person going to a particular unit after 1 day:  [[0.1925 0.2467 0.1143 0.169  0.2775]]\n",
      "intital probability of a person going to a particular unit after 2 day:  [[0.1458722 0.1872234 0.139474  0.1818544 0.345576 ]]\n",
      "intital probability of a person going to a particular unit after 10 day:  [[0.07693332 0.09688565 0.3362719  0.24330485 0.24660428]]\n",
      "intital probability of a person going to a particular unit after 100 day:  [[3.37699477e-04 4.25255374e-04 6.59171611e-01 3.38982813e-01\n",
      "  1.08262174e-03]]\n",
      "intital probability of a person going to a particular unit after 1000 day:  [[8.97378472e-28 1.13004326e-27 6.60595331e-01 3.39404669e-01\n",
      "  2.87688168e-27]]\n",
      "intital probability of a person going to a particular unit after 1001 day:  [[8.44851901e-28 1.06389804e-27 6.60595331e-01 3.39404669e-01\n",
      "  2.70848815e-27]]\n"
     ]
    }
   ],
   "source": [
    "# encoding the probabilities as a numpy array\n",
    "trans_array = np.array([\n",
    "    [0.002, 0.666, 0.01, 0.020, 0.302],\n",
    "    [0.466, 0.102, 0.02, 0.032, 0.38],\n",
    "    [0.0, 0.0, 1, 0.0, 0.0],\n",
    "    [0, 0, 0, 1, 0],\n",
    "    [0.11, 0.122, 0.066, 0.004, 0.698]\n",
    "])\n",
    "\n",
    "# ensures that the probabilities sum to 1\n",
    "assert(trans_array[0].sum() == 1.0)\n",
    "assert(trans_array[1].sum() == 1.0)\n",
    "assert(trans_array[2].sum() == 1.0)\n",
    "assert(trans_array[3].sum() == 1.0)\n",
    "assert(trans_array[4].sum() == 1.0)\n",
    "\n",
    "# encoding the initial probability of as a numpy array\n",
    "state = np.array([[0.3, 0.4, 0.1, 0.15, 0.05]])\n",
    "assert(state[0].sum() == 1.0)\n",
    "\n",
    "matrix_C = state\n",
    "for _ in range(1):\n",
    "    matrix_C = np.dot(matrix_C, trans_array)\n",
    "\n",
    "print(\"intital probability of a person going to a particular unit after 1 day: \", matrix_C)\n",
    "\n",
    "matrix_C = state\n",
    "for _ in range(2):\n",
    "    matrix_C = np.dot(matrix_C, trans_array)\n",
    "\n",
    "print(\"intital probability of a person going to a particular unit after 2 day: \", matrix_C)\n",
    "\n",
    "matrix_C = state\n",
    "for _ in range(10):\n",
    "    matrix_C = np.dot(matrix_C, trans_array)\n",
    "\n",
    "print(\"intital probability of a person going to a particular unit after 10 day: \", matrix_C)\n",
    "\n",
    "matrix_C = state\n",
    "for _ in range(100):\n",
    "    matrix_C = np.dot(matrix_C, trans_array)\n",
    "\n",
    "print(\"intital probability of a person going to a particular unit after 100 day: \", matrix_C)\n",
    "\n",
    "matrix_C = state\n",
    "for _ in range(1000):\n",
    "    matrix_C = np.dot(matrix_C, trans_array)\n",
    "\n",
    "print(\"intital probability of a person going to a particular unit after 1000 day: \", matrix_C)\n",
    "\n",
    "\n",
    "matrix_C = state\n",
    "for _ in range(1001):\n",
    "    matrix_C = np.dot(matrix_C, trans_array)\n",
    "\n",
    "print(\"intital probability of a person going to a particular unit after 1001 day: \", matrix_C)\n",
    "\n",
    "\n"
   ]
  },
  {
   "cell_type": "code",
   "execution_count": 5,
   "metadata": {
    "colab": {
     "base_uri": "https://localhost:8080/",
     "height": 265
    },
    "id": "GtNeBCh4Aw34",
    "outputId": "f8d590f8-466b-487e-8490-82a40d6d61a7"
   },
   "outputs": [
    {
     "data": {
      "image/png": "[encoded data removed]",
      "text/plain": [
       "<Figure size 432x288 with 1 Axes>"
      ]
     },
     "metadata": {
      "needs_background": "light"
     },
     "output_type": "display_data"
    }
   ],
   "source": [
    "## visualising convergence \n",
    "from random import seed\n",
    "from random import random\n",
    "stateHist=state\n",
    "c=state\n",
    "dfStateHist=pd.DataFrame(state)\n",
    "distr_hist = [[0,0,0,0,0]]\n",
    "for x in range(0,200):\n",
    "  c=np.dot(c,trans_array)\n",
    "  # print(state)\n",
    "  stateHist=np.append(stateHist,c,axis=0)\n",
    "  dfDistrHist = pd.DataFrame(stateHist)\n",
    "dfDistrHist.plot()\n",
    "plt.show()"
   ]
  },
  {
   "cell_type": "markdown",
   "metadata": {
    "id": "7XDmI3C95t0I"
   },
   "source": [
    "### **INFERENCES FOR PROBLEM 2**\n",
    "1. General crime and feedback are absorbing states because The sequence gets trapped once it reached this state as it cannot come out of it. The chain is  <b> not irreducible</b> because at n = 1000 and n =1001, the state probability <b>do not converge </b>( they have a small difference, though small they are not equal) \n",
    "2. The initial probabilities of a person going to a particular unit after 1,2,10,100,1000 and 1001 days are shown above. \n",
    "3. as we can see from the above results there is a very small difference in the state probabilities as we move from n=1000 to n=1001 i.e. state probabilities do not converge till 1001 days.\n",
    "4. The question confirms that Summer Edgecombe goes to major crimes , we can take P[i] as [1,0,0,0,0]. n = 1 as it is the first day and P[i,j] ( major crimes -> feedback) = 0.02 from the state transition diagram.\n",
    "Hence the <b>probability of her giving feedback</b> on the first day after going to major crimes unit would be (1)*(0.02)^1 = <b>0.02 </b>\n",
    "\n"
   ]
  },
  {
   "cell_type": "markdown",
   "metadata": {
    "id": "nyDYo_MvZNO-"
   },
   "source": [
    "##Problem 3 (4 points)\n",
    "\n",
    "It seems that there is a bug in **_Move-o-Tron 99_** which makes general crimes and feedback units as absorbing states. After updating the software of **_Move-o-Tron 99_**, Captain Holt wants to find out the effect that Amy Santiago has on the probability of a person giving feedback. So one matrix is generated including Santiago and the other one without. \n",
    "\n",
    "Matrix 1 (With Santiago)\n",
    "\n",
    "| |Major Crimes|Traffic|General crimes|Feedback|Theft|\n",
    "|---|---|---|---|---|---|\n",
    "|Major Crimes|0\\.002|0\\.232|0\\.31|0\\.434|0\\.022|\n",
    "|Traffic|0\\.426|0\\.102|0\\.222|0\\.04|0\\.21|\n",
    "|General crimes|0\\.03|0\\.11|0\\.2|0\\.294|0\\.366|\n",
    "|Feedback|0\\.003|0\\.176|0\\.321|0\\.3|0\\.2|\n",
    "|Theft|0\\.11|0\\.422|0\\.166|0\\.1|0\\.202|\n",
    "\n",
    "Matrix 2 (Without Santiago)\n",
    "\n",
    "| |Major Crimes|Traffic|General crimes|Feedback|Theft|\n",
    "|---|---|---|---|---|---|\n",
    "|Major Crimes|0\\.11|0\\.222|0\\.092|0\\.374|0\\.202|\n",
    "|Traffic|0\\.03|0\\.11|0\\.2|0\\.294|0\\.366|\n",
    "|General crimes|0\\.002|0\\.232|0\\.31|0\\.434|0\\.022|\n",
    "|Feedback|0\\.466|0\\.102|0\\.02|0\\.032|0\\.38|\n",
    "|Theft|0\\.003|0\\.176|0\\.321|0\\.3|0\\.2|\n",
    "\n",
    "<br>\n",
    "\n",
    "1. How can you find out the effect that Santiago has on the probability of feedback? (1 point)\n",
    "\n",
    "2. What effect does Santiago have one the probability of getting feedback? (1 point)\n",
    "\n",
    "    Note: The initial probablity of a person going to a particular unit on a particular day remains the same\n",
    "\n",
    "3. Name the test Captain Holt is performing. (0.5 points)\n",
    "\n",
    "Lina Ginetti reports to Captain Holt that the there two kinds of days in the precicnt _\"There are normal days and then there are days where workflow is dismal with a tiny dash of pathetic.\"_. Captain Holt decided to sample the initial probablity of a person going to a particular unit on a good day and a bad day.\n",
    "\n",
    "4. Without the information about these inital probabilities, can you tell if there is any difference in the probability of getting a feedback? Explain. (1.5 points)\n",
    "\n"
   ]
  },
  {
   "cell_type": "code",
   "execution_count": 6,
   "metadata": {
    "id": "KYvJfAKIigsp"
   },
   "outputs": [],
   "source": [
    "# encoding the probabilities as a numpy array\n",
    "# With Santiago\n",
    "trans_array_with_amy = np.array([\n",
    "    [0.002, 0.232, 0.31, 0.434, 0.022],\n",
    "    [0.426, 0.102, 0.222, 0.04, 0.21],\n",
    "    [0.03, 0.11, 0.20, 0.294, 0.366],\n",
    "    [0.003, 0.176, 0.321, 0.3, 0.2],\n",
    "    [0.11, 0.422, 0.166, 0.1, 0.202]\n",
    "])\n",
    "\n",
    "# Without Santiago\n",
    "trans_array_without_amy = np.array([\n",
    "    [0.11, 0.222, 0.092, 0.374, 0.202],\n",
    "    [0.03, 0.11, 0.20, 0.294, 0.366],\n",
    "    [0.002, 0.232, 0.31, 0.434, 0.022],\n",
    "    [0.466, 0.102, 0.02, 0.032, 0.38],\n",
    "    [0.003, 0.176, 0.321, 0.3, 0.2]\n",
    "])\n",
    "\n",
    "# ensures that the probabilities sum to 1\n",
    "assert(trans_array_with_amy[0].sum() == 1.0)\n",
    "assert(trans_array_with_amy[1].sum() == 1.0)\n",
    "assert(trans_array_with_amy[2].sum() == 1.0)\n",
    "assert(trans_array_with_amy[3].sum() == 1.0)\n",
    "assert(trans_array_with_amy[4].sum() == 1.0)\n",
    "\n",
    "assert(trans_array_without_amy[0].sum() == 1.0)\n",
    "assert(trans_array_without_amy[1].sum() == 1.0)\n",
    "assert(trans_array_without_amy[2].sum() == 1.0)\n",
    "assert(trans_array_without_amy[3].sum() == 1.0)\n",
    "assert(trans_array_without_amy[4].sum() == 1.0)\n",
    "\n",
    "# encoding the initial probability of as a numpy array\n",
    "state = np.array([[0.3, 0.4, 0.1, 0.15, 0.05]])\n",
    "assert(state[0].sum() == 1.0)\n"
   ]
  },
  {
   "cell_type": "markdown",
   "metadata": {
    "id": "wFNCx3h0lnda"
   },
   "source": [
    "**trans_array_with_amy**"
   ]
  },
  {
   "cell_type": "code",
   "execution_count": 7,
   "metadata": {
    "colab": {
     "base_uri": "https://localhost:8080/"
    },
    "id": "_g-1ptQUQBfU",
    "outputId": "61bc8344-f6f1-4bbc-dae2-f52d0ef0ed82"
   },
   "outputs": [
    {
     "name": "stdout",
     "output_type": "stream",
     "text": [
      "intital probability of a person going to a particular unit after 1 day:  [[0.17995 0.1689  0.25825 0.2256  0.1673 ]]\n",
      "intital probability of a person going to a particular unit after 2 day:  [[0.0991386 0.1976899 0.2451197 0.2451898 0.212862 ]]\n",
      "intital probability of a person going to a particular unit after 10 day:  [[0.12001985 0.20608065 0.23649948 0.21700298 0.22039704]]\n",
      "intital probability of a person going to a particular unit after 100 day:  [[0.12001975 0.20607988 0.23649985 0.21700347 0.22039705]]\n",
      "intital probability of a person going to a particular unit after 1000 day:  [[0.12001975 0.20607988 0.23649985 0.21700347 0.22039705]]\n",
      "intital probability of a person going to a particular unit after 1001 day:  [[0.12001975 0.20607988 0.23649985 0.21700347 0.22039705]]\n"
     ]
    }
   ],
   "source": [
    "matrix_C = state\n",
    "for _ in range(1):\n",
    "    matrix_C = np.dot(matrix_C, trans_array_with_amy)\n",
    "\n",
    "print(\"intital probability of a person going to a particular unit after 1 day: \", matrix_C)\n",
    "\n",
    "matrix_C = state\n",
    "for _ in range(2):\n",
    "    matrix_C = np.dot(matrix_C, trans_array_with_amy)\n",
    "\n",
    "print(\"intital probability of a person going to a particular unit after 2 day: \", matrix_C)\n",
    "\n",
    "matrix_C = state\n",
    "for _ in range(10):\n",
    "    matrix_C = np.dot(matrix_C, trans_array_with_amy)\n",
    "\n",
    "print(\"intital probability of a person going to a particular unit after 10 day: \", matrix_C)\n",
    "\n",
    "matrix_C = state\n",
    "for _ in range(100):\n",
    "    matrix_C = np.dot(matrix_C, trans_array_with_amy)\n",
    "\n",
    "print(\"intital probability of a person going to a particular unit after 100 day: \", matrix_C)\n",
    "\n",
    "matrix_C = state\n",
    "for _ in range(1000):\n",
    "    matrix_C = np.dot(matrix_C, trans_array_with_amy)\n",
    "\n",
    "print(\"intital probability of a person going to a particular unit after 1000 day: \", matrix_C)\n",
    "\n",
    "\n",
    "matrix_C = state\n",
    "for _ in range(1001):\n",
    "    matrix_C = np.dot(matrix_C, trans_array_with_amy)\n",
    "\n",
    "print(\"intital probability of a person going to a particular unit after 1001 day: \", matrix_C)"
   ]
  },
  {
   "cell_type": "code",
   "execution_count": 8,
   "metadata": {
    "colab": {
     "base_uri": "https://localhost:8080/",
     "height": 265
    },
    "id": "To4nCiUfQ6jR",
    "outputId": "2eb0b80d-d0cb-45ac-dffd-8ded8230aab4"
   },
   "outputs": [
    {
     "data": {
      "image/png": "[encoded data removed]",
      "text/plain": [
       "<Figure size 432x288 with 1 Axes>"
      ]
     },
     "metadata": {
      "needs_background": "light"
     },
     "output_type": "display_data"
    }
   ],
   "source": [
    "from random import seed\n",
    "from random import random\n",
    "stateHist=state\n",
    "c=state\n",
    "dfStateHist=pd.DataFrame(state)\n",
    "distr_hist = [[0,0,0,0,0]]\n",
    "for x in range(0,20):\n",
    "  c=np.dot(c,trans_array_with_amy)\n",
    "  # print(state)\n",
    "  stateHist=np.append(stateHist,c,axis=0)\n",
    "  dfDistrHist = pd.DataFrame(stateHist)\n",
    "dfDistrHist.plot()\n",
    "plt.show()"
   ]
  },
  {
   "cell_type": "markdown",
   "metadata": {
    "id": "0MvknH9elsoI"
   },
   "source": [
    "**trans_array_without_amy**"
   ]
  },
  {
   "cell_type": "code",
   "execution_count": 9,
   "metadata": {
    "colab": {
     "base_uri": "https://localhost:8080/"
    },
    "id": "W8u_O6dtQsIG",
    "outputId": "8ccf7ec1-0ad7-4d07-dbaf-f741c18c287e"
   },
   "outputs": [
    {
     "name": "stdout",
     "output_type": "stream",
     "text": [
      "intital probability of a person going to a particular unit after 1 day:  [[0.11525 0.1579  0.15765 0.293   0.2762 ]]\n",
      "intital probability of a person going to a particular unit after 2 day:  [[0.1550964 0.1580265 0.1855747 0.2501822 0.2511202]]\n",
      "intital probability of a person going to a particular unit after 10 day:  [[0.14495315 0.16283309 0.18658633 0.26399883 0.2416286 ]]\n",
      "intital probability of a person going to a particular unit after 100 day:  [[0.14495178 0.16283362 0.18658671 0.26400004 0.24162786]]\n",
      "intital probability of a person going to a particular unit after 1000 day:  [[0.14495178 0.16283362 0.18658671 0.26400004 0.24162786]]\n",
      "intital probability of a person going to a particular unit after 1001 day:  [[0.14495178 0.16283362 0.18658671 0.26400004 0.24162786]]\n"
     ]
    }
   ],
   "source": [
    "matrix_C = state\n",
    "for _ in range(1):\n",
    "    matrix_C = np.dot(matrix_C, trans_array_without_amy)\n",
    "\n",
    "print(\"intital probability of a person going to a particular unit after 1 day: \", matrix_C)\n",
    "\n",
    "matrix_C = state\n",
    "for _ in range(2):\n",
    "    matrix_C = np.dot(matrix_C, trans_array_without_amy)\n",
    "\n",
    "print(\"intital probability of a person going to a particular unit after 2 day: \", matrix_C)\n",
    "\n",
    "matrix_C = state\n",
    "for _ in range(10):\n",
    "    matrix_C = np.dot(matrix_C, trans_array_without_amy)\n",
    "\n",
    "print(\"intital probability of a person going to a particular unit after 10 day: \", matrix_C)\n",
    "\n",
    "matrix_C = state\n",
    "for _ in range(100):\n",
    "    matrix_C = np.dot(matrix_C, trans_array_without_amy)\n",
    "\n",
    "print(\"intital probability of a person going to a particular unit after 100 day: \", matrix_C)\n",
    "\n",
    "matrix_C = state\n",
    "for _ in range(1000):\n",
    "    matrix_C = np.dot(matrix_C, trans_array_without_amy)\n",
    "\n",
    "print(\"intital probability of a person going to a particular unit after 1000 day: \", matrix_C)\n",
    "\n",
    "\n",
    "matrix_C = state\n",
    "for _ in range(1001):\n",
    "    matrix_C = np.dot(matrix_C, trans_array_without_amy)\n",
    "\n",
    "print(\"intital probability of a person going to a particular unit after 1001 day: \", matrix_C)"
   ]
  },
  {
   "cell_type": "code",
   "execution_count": 10,
   "metadata": {
    "colab": {
     "base_uri": "https://localhost:8080/",
     "height": 265
    },
    "id": "wV-Jpb90Q7j3",
    "outputId": "70da5cbe-80f8-45ab-f6d0-b85a2e170ea2"
   },
   "outputs": [
    {
     "data": {
      "image/png": "[encoded data removed]",
      "text/plain": [
       "<Figure size 432x288 with 1 Axes>"
      ]
     },
     "metadata": {
      "needs_background": "light"
     },
     "output_type": "display_data"
    }
   ],
   "source": [
    "stateHist=state\n",
    "c=state\n",
    "dfStateHist=pd.DataFrame(state)\n",
    "distr_hist = [[0,0,0,0,0]]\n",
    "for x in range(0,20):\n",
    "  c=np.dot(c,trans_array_without_amy)\n",
    "  # print(state)\n",
    "  stateHist=np.append(stateHist,c,axis=0)\n",
    "  dfDistrHist = pd.DataFrame(stateHist)\n",
    "dfDistrHist.plot()\n",
    "plt.show()"
   ]
  },
  {
   "cell_type": "markdown",
   "metadata": {
    "id": "PzNRDh0gIhMb"
   },
   "source": [
    "### **INFERENCES FOR PROBLEM 3**\n",
    "1. We can perform <b>AB testing</b> to find out the effect that Santiago has on the probability of feedback.<br/> From the two stationary distributions, the one with amy becomes stationary for n=7 whereas the stationary distribution for without amy becomes stationary at n=5.\n",
    "\n",
    "2. We can see that probability of going to the feedback unit for the transition matrix **with amy** is:<br/>\n",
    "after 1000 days: 0.21700347<br/>\n",
    "after 1001 days: 0.21700347<br/>\n",
    "\n",
    "  We can see that probability of going to the feedback unit for the transition matrix **without amy** is:<br/>\n",
    "  after 1000 days: 0.26400004<br/>\n",
    "  after 1001 days: 0.26400004<br/>\n",
    "\n",
    "  The probability of going to the feedback unit for transition matrix **without amy** is higher by 0.04699657 (4.6%). This implies Amy Santiago has a rather adverse effect on the probability of getting feedback, because in amy's absence the probability of going to the feedback unit is higher by 4.6%. Maybe amy makes people feel cautious around her?\n",
    "\n",
    "3. AB testing. <br/>\n",
    "Comparing transition probabilities in the long run with and without \n",
    "a factor constitutes the AB testing for Markov Chains\n",
    "\n",
    "4.  The stationary distribution, if exists, is independant of the initial distribution. So even without information of inital state probabilities, we can get the stationary distribution.<br/>\n",
    "if pi = (pi 1, pi 2, pi 3.. pi m) is the stationary distribution,\n",
    "then <br/>\n",
    "pi = pi*P <br/>\n",
    "where P is a 1 step transition matrix.<br/>\n",
    "and i=1 to m (m=5 states here)<br/>\n",
    "As we can see the initial state is not needed to compute the stationary distribution. So there is no difference in the probability of getting a feedback not knowing initial state.\n"
   ]
  }
 ],
 "metadata": {
  "colab": {
   "provenance": []
  },
  "kernelspec": {
   "display_name": "Python 3",
   "language": "python",
   "name": "python3"
  },
  "language_info": {
   "codemirror_mode": {
    "name": "ipython",
    "version": 3
   },
   "file_extension": ".py",
   "mimetype": "text/x-python",
   "name": "python",
   "nbconvert_exporter": "python",
   "pygments_lexer": "ipython3",
   "version": "3.9.12"
  }
 },
 "nbformat": 4,
 "nbformat_minor": 1
}
